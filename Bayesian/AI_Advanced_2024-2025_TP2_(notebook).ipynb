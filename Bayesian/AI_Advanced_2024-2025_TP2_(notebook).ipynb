{
  "cells": [
    {
      "cell_type": "markdown",
      "metadata": {
        "id": "RTd0PLR7kgw3"
      },
      "source": [
        "# Advanced topics in AI – TP 2 (2023 April 24)"
      ]
    },
    {
      "cell_type": "code",
      "execution_count": 2,
      "metadata": {
        "id": "jtXMZGN10taQ"
      },
      "outputs": [
        {
          "name": "stderr",
          "output_type": "stream",
          "text": [
            "WARNING (pytensor.tensor.blas): Using NumPy C-API based implementation for BLAS functions.\n"
          ]
        }
      ],
      "source": [
        "import pymc as pm\n",
        "import pytensor\n",
        "pytensor.config.cxx = \"\"\n",
        "pytensor.config.mode = \"FAST_COMPILE\"\n",
        "import numpy as np\n",
        "import arviz as az\n",
        "from IPython.core.pylabtools import figsize\n",
        "import matplotlib.pyplot as plt\n",
        "import scipy.stats as stats\n",
        "RANDOM_SEED = 8927\n",
        "rng = np.random.default_rng(RANDOM_SEED)\n",
        "%matplotlib inline"
      ]
    },
    {
      "cell_type": "markdown",
      "metadata": {
        "id": "EhGBipU9u3XZ"
      },
      "source": [
        "## Beta-Bernoulli"
      ]
    },
    {
      "cell_type": "code",
      "execution_count": 3,
      "metadata": {
        "id": "k6n_0EVkvRYt"
      },
      "outputs": [
        {
          "name": "stdout",
          "output_type": "stream",
          "text": [
            "[0 1 0 1 1 1 1 0 0 0]\n"
          ]
        }
      ],
      "source": [
        "# Generate samples of a Bernoulli distribution with p=0.65, using scipy.stats\n",
        "# Your code\n",
        "# Set the probability of success\n",
        "p = 0.65  # Probability of success\n",
        "samples = stats.bernoulli.rvs(p, size=100)\n",
        "print(samples[:10])  # Display the first 10 samples\n"
      ]
    },
    {
      "cell_type": "code",
      "execution_count": 10,
      "metadata": {
        "id": "lv36PrlgvIpR"
      },
      "outputs": [
        {
          "name": "stderr",
          "output_type": "stream",
          "text": [
            "ERROR (pytensor.graph.rewriting.basic): Rewrite failure due to: constant_folding\n",
            "ERROR (pytensor.graph.rewriting.basic): node: Cast{float64}(1)\n",
            "ERROR (pytensor.graph.rewriting.basic): TRACEBACK:\n",
            "ERROR (pytensor.graph.rewriting.basic): Traceback (most recent call last):\n",
            "  File \"/usr/local/python/3.12.1/lib/python3.12/site-packages/pytensor/graph/rewriting/basic.py\", line 1909, in process_node\n",
            "    replacements = node_rewriter.transform(fgraph, node)\n",
            "                   ^^^^^^^^^^^^^^^^^^^^^^^^^^^^^^^^^^^^^\n",
            "  File \"/usr/local/python/3.12.1/lib/python3.12/site-packages/pytensor/graph/rewriting/basic.py\", line 1081, in transform\n",
            "    return self.fn(fgraph, node)\n",
            "           ^^^^^^^^^^^^^^^^^^^^^\n",
            "  File \"/usr/local/python/3.12.1/lib/python3.12/site-packages/pytensor/tensor/rewriting/basic.py\", line 1122, in constant_folding\n",
            "    thunk = node.op.make_thunk(node, storage_map, compute_map, no_recycling=[])\n",
            "            ^^^^^^^^^^^^^^^^^^^^^^^^^^^^^^^^^^^^^^^^^^^^^^^^^^^^^^^^^^^^^^^^^^^\n",
            "  File \"/usr/local/python/3.12.1/lib/python3.12/site-packages/pytensor/link/c/op.py\", line 119, in make_thunk\n",
            "    return self.make_c_thunk(node, storage_map, compute_map, no_recycling)\n",
            "           ^^^^^^^^^^^^^^^^^^^^^^^^^^^^^^^^^^^^^^^^^^^^^^^^^^^^^^^^^^^^^^^\n",
            "  File \"/usr/local/python/3.12.1/lib/python3.12/site-packages/pytensor/link/c/op.py\", line 84, in make_c_thunk\n",
            "    outputs = cl.make_thunk(\n",
            "              ^^^^^^^^^^^^^^\n",
            "  File \"/usr/local/python/3.12.1/lib/python3.12/site-packages/pytensor/link/c/basic.py\", line 1182, in make_thunk\n",
            "    cthunk, module, in_storage, out_storage, error_storage = self.__compile__(\n",
            "                                                             ^^^^^^^^^^^^^^^^^\n",
            "  File \"/usr/local/python/3.12.1/lib/python3.12/site-packages/pytensor/link/c/basic.py\", line 1103, in __compile__\n",
            "    thunk, module = self.cthunk_factory(\n",
            "                    ^^^^^^^^^^^^^^^^^^^^\n",
            "  File \"/usr/local/python/3.12.1/lib/python3.12/site-packages/pytensor/link/c/basic.py\", line 1627, in cthunk_factory\n",
            "    module = cache.module_from_key(key=key, lnk=self)\n",
            "             ^^^^^^^^^^^^^^^^^^^^^^^^^^^^^^^^^^^^^^^^\n",
            "  File \"/usr/local/python/3.12.1/lib/python3.12/site-packages/pytensor/link/c/cmodule.py\", line 1255, in module_from_key\n",
            "    module = lnk.compile_cmodule(location)\n",
            "             ^^^^^^^^^^^^^^^^^^^^^^^^^^^^^\n",
            "  File \"/usr/local/python/3.12.1/lib/python3.12/site-packages/pytensor/link/c/basic.py\", line 1528, in compile_cmodule\n",
            "    module = c_compiler.compile_str(\n",
            "             ^^^^^^^^^^^^^^^^^^^^^^^\n",
            "  File \"/usr/local/python/3.12.1/lib/python3.12/site-packages/pytensor/link/c/cmodule.py\", line 2654, in compile_str\n",
            "    raise CompileError(\n",
            "pytensor.link.c.exceptions.CompileError: Compilation failed (return status=1):\n",
            "/usr/bin/g++ -shared -g -O3 -fno-math-errno -Wno-unused-label -Wno-unused-variable -Wno-write-strings -Wno-c++11-narrowing -fno-exceptions -fno-unwind-tables -fno-asynchronous-unwind-tables -march=icelake-server -mmmx -mno-3dnow -msse -msse2 -msse3 -mssse3 -mno-sse4a -mcx16 -msahf -mmovbe -maes -msha -mpclmul -mpopcnt -mabm -mno-lwp -mfma -mno-fma4 -mno-xop -mbmi -mno-sgx -mbmi2 -mno-pconfig -mno-wbnoinvd -mno-tbm -mavx -mavx2 -msse4.2 -msse4.1 -mlzcnt -mrtm -mhle -mrdrnd -mf16c -mfsgsbase -mrdseed -mprfchw -madx -mfxsr -mxsave -mxsaveopt -mavx512f -mno-avx512er -mavx512cd -mno-avx512pf -mno-prefetchwt1 -mclflushopt -mxsavec -mxsaves -mavx512dq -mavx512bw -mavx512vl -mavx512ifma -mavx512vbmi -mno-avx5124fmaps -mno-avx5124vnniw -mclwb -mno-mwaitx -mno-clzero -mno-pku -mrdpid -mgfni -mno-shstk -mavx512vbmi2 -mavx512vnni -mvaes -mvpclmulqdq -mavx512bitalg -mavx512vpopcntdq -mno-movdiri -mno-movdir64b -mno-waitpkg -mno-cldemote -mno-ptwrite --param l1-cache-size=48 --param l1-cache-line-size=64 --param l2-cache-size=49152 -mtune=icelake-server -DNPY_NO_DEPRECATED_API=NPY_1_7_API_VERSION -m64 -fPIC -I/usr/local/python/3.12.1/lib/python3.12/site-packages/numpy/core/include -I/usr/local/python/3.12.1/include/python3.12 -I/usr/local/python/3.12.1/lib/python3.12/site-packages/pytensor/link/c/c_code -L/usr/local/python/3.12.1/lib -fvisibility=hidden -o /home/codespace/.pytensor/compiledir_Linux-6.5--azure-x86_64-with-glibc2.31-x86_64-3.12.1-64/tmpwl0pe96r/m0de214ec04e404e0b98e77bebd2d95875e2e4b7b75c150c7f6478c42e61da0fa.so /home/codespace/.pytensor/compiledir_Linux-6.5--azure-x86_64-with-glibc2.31-x86_64-3.12.1-64/tmpwl0pe96r/mod.cpp -lpython3.12\n",
            "/usr/bin/ld: /usr/local/python/3.12.1/lib/libpython3.12.a(import.o): relocation R_X86_64_TPOFF32 against hidden symbol `pkgcontext' can not be used when making a shared object\n",
            "/usr/bin/ld: /usr/local/python/3.12.1/lib/libpython3.12.a(pystate.o): relocation R_X86_64_TPOFF32 against hidden symbol `_Py_tss_tstate' can not be used when making a shared object\n",
            "/usr/bin/ld: /usr/local/python/3.12.1/lib/libpython3.12.a(longobject.o): relocation R_X86_64_PC32 against symbol `_Py_TrueStruct' can not be used when making a shared object; recompile with -fPIC\n",
            "/usr/bin/ld: final link failed: bad value\n",
            "collect2: error: ld returned 1 exit status\n",
            "\n",
            "\n"
          ]
        },
        {
          "name": "stdout",
          "output_type": "stream",
          "text": [
            "\n",
            "You can find the C code in this temporary file: /tmp/pytensor_compilation_error_1f50ymh8\n"
          ]
        },
        {
          "name": "stderr",
          "output_type": "stream",
          "text": [
            "ERROR (pytensor.graph.rewriting.basic): Rewrite failure due to: constant_folding\n",
            "ERROR (pytensor.graph.rewriting.basic): node: Cast{float64}(2)\n",
            "ERROR (pytensor.graph.rewriting.basic): TRACEBACK:\n",
            "ERROR (pytensor.graph.rewriting.basic): Traceback (most recent call last):\n",
            "  File \"/usr/local/python/3.12.1/lib/python3.12/site-packages/pytensor/graph/rewriting/basic.py\", line 1909, in process_node\n",
            "    replacements = node_rewriter.transform(fgraph, node)\n",
            "                   ^^^^^^^^^^^^^^^^^^^^^^^^^^^^^^^^^^^^^\n",
            "  File \"/usr/local/python/3.12.1/lib/python3.12/site-packages/pytensor/graph/rewriting/basic.py\", line 1081, in transform\n",
            "    return self.fn(fgraph, node)\n",
            "           ^^^^^^^^^^^^^^^^^^^^^\n",
            "  File \"/usr/local/python/3.12.1/lib/python3.12/site-packages/pytensor/tensor/rewriting/basic.py\", line 1122, in constant_folding\n",
            "    thunk = node.op.make_thunk(node, storage_map, compute_map, no_recycling=[])\n",
            "            ^^^^^^^^^^^^^^^^^^^^^^^^^^^^^^^^^^^^^^^^^^^^^^^^^^^^^^^^^^^^^^^^^^^\n",
            "  File \"/usr/local/python/3.12.1/lib/python3.12/site-packages/pytensor/link/c/op.py\", line 119, in make_thunk\n",
            "    return self.make_c_thunk(node, storage_map, compute_map, no_recycling)\n",
            "           ^^^^^^^^^^^^^^^^^^^^^^^^^^^^^^^^^^^^^^^^^^^^^^^^^^^^^^^^^^^^^^^\n",
            "  File \"/usr/local/python/3.12.1/lib/python3.12/site-packages/pytensor/link/c/op.py\", line 84, in make_c_thunk\n",
            "    outputs = cl.make_thunk(\n",
            "              ^^^^^^^^^^^^^^\n",
            "  File \"/usr/local/python/3.12.1/lib/python3.12/site-packages/pytensor/link/c/basic.py\", line 1182, in make_thunk\n",
            "    cthunk, module, in_storage, out_storage, error_storage = self.__compile__(\n",
            "                                                             ^^^^^^^^^^^^^^^^^\n",
            "  File \"/usr/local/python/3.12.1/lib/python3.12/site-packages/pytensor/link/c/basic.py\", line 1103, in __compile__\n",
            "    thunk, module = self.cthunk_factory(\n",
            "                    ^^^^^^^^^^^^^^^^^^^^\n",
            "  File \"/usr/local/python/3.12.1/lib/python3.12/site-packages/pytensor/link/c/basic.py\", line 1627, in cthunk_factory\n",
            "    module = cache.module_from_key(key=key, lnk=self)\n",
            "             ^^^^^^^^^^^^^^^^^^^^^^^^^^^^^^^^^^^^^^^^\n",
            "  File \"/usr/local/python/3.12.1/lib/python3.12/site-packages/pytensor/link/c/cmodule.py\", line 1255, in module_from_key\n",
            "    module = lnk.compile_cmodule(location)\n",
            "             ^^^^^^^^^^^^^^^^^^^^^^^^^^^^^\n",
            "  File \"/usr/local/python/3.12.1/lib/python3.12/site-packages/pytensor/link/c/basic.py\", line 1528, in compile_cmodule\n",
            "    module = c_compiler.compile_str(\n",
            "             ^^^^^^^^^^^^^^^^^^^^^^^\n",
            "  File \"/usr/local/python/3.12.1/lib/python3.12/site-packages/pytensor/link/c/cmodule.py\", line 2654, in compile_str\n",
            "    raise CompileError(\n",
            "pytensor.link.c.exceptions.CompileError: Compilation failed (return status=1):\n",
            "/usr/bin/g++ -shared -g -O3 -fno-math-errno -Wno-unused-label -Wno-unused-variable -Wno-write-strings -Wno-c++11-narrowing -fno-exceptions -fno-unwind-tables -fno-asynchronous-unwind-tables -march=icelake-server -mmmx -mno-3dnow -msse -msse2 -msse3 -mssse3 -mno-sse4a -mcx16 -msahf -mmovbe -maes -msha -mpclmul -mpopcnt -mabm -mno-lwp -mfma -mno-fma4 -mno-xop -mbmi -mno-sgx -mbmi2 -mno-pconfig -mno-wbnoinvd -mno-tbm -mavx -mavx2 -msse4.2 -msse4.1 -mlzcnt -mrtm -mhle -mrdrnd -mf16c -mfsgsbase -mrdseed -mprfchw -madx -mfxsr -mxsave -mxsaveopt -mavx512f -mno-avx512er -mavx512cd -mno-avx512pf -mno-prefetchwt1 -mclflushopt -mxsavec -mxsaves -mavx512dq -mavx512bw -mavx512vl -mavx512ifma -mavx512vbmi -mno-avx5124fmaps -mno-avx5124vnniw -mclwb -mno-mwaitx -mno-clzero -mno-pku -mrdpid -mgfni -mno-shstk -mavx512vbmi2 -mavx512vnni -mvaes -mvpclmulqdq -mavx512bitalg -mavx512vpopcntdq -mno-movdiri -mno-movdir64b -mno-waitpkg -mno-cldemote -mno-ptwrite --param l1-cache-size=48 --param l1-cache-line-size=64 --param l2-cache-size=49152 -mtune=icelake-server -DNPY_NO_DEPRECATED_API=NPY_1_7_API_VERSION -m64 -fPIC -I/usr/local/python/3.12.1/lib/python3.12/site-packages/numpy/core/include -I/usr/local/python/3.12.1/include/python3.12 -I/usr/local/python/3.12.1/lib/python3.12/site-packages/pytensor/link/c/c_code -L/usr/local/python/3.12.1/lib -fvisibility=hidden -o /home/codespace/.pytensor/compiledir_Linux-6.5--azure-x86_64-with-glibc2.31-x86_64-3.12.1-64/tmpoc0ubnaz/m0de214ec04e404e0b98e77bebd2d95875e2e4b7b75c150c7f6478c42e61da0fa.so /home/codespace/.pytensor/compiledir_Linux-6.5--azure-x86_64-with-glibc2.31-x86_64-3.12.1-64/tmpoc0ubnaz/mod.cpp -lpython3.12\n",
            "/usr/bin/ld: /usr/local/python/3.12.1/lib/libpython3.12.a(import.o): relocation R_X86_64_TPOFF32 against hidden symbol `pkgcontext' can not be used when making a shared object\n",
            "/usr/bin/ld: /usr/local/python/3.12.1/lib/libpython3.12.a(pystate.o): relocation R_X86_64_TPOFF32 against hidden symbol `_Py_tss_tstate' can not be used when making a shared object\n",
            "/usr/bin/ld: /usr/local/python/3.12.1/lib/libpython3.12.a(longobject.o): relocation R_X86_64_PC32 against symbol `_Py_TrueStruct' can not be used when making a shared object; recompile with -fPIC\n",
            "/usr/bin/ld: final link failed: bad value\n",
            "collect2: error: ld returned 1 exit status\n",
            "\n",
            "\n"
          ]
        },
        {
          "name": "stdout",
          "output_type": "stream",
          "text": [
            "\n",
            "You can find the C code in this temporary file: /tmp/pytensor_compilation_error_nromnxzq\n"
          ]
        },
        {
          "name": "stderr",
          "output_type": "stream",
          "text": [
            "ERROR (pytensor.graph.rewriting.basic): Rewrite failure due to: constant_folding\n",
            "ERROR (pytensor.graph.rewriting.basic): node: Cast{float64}(1)\n",
            "ERROR (pytensor.graph.rewriting.basic): TRACEBACK:\n",
            "ERROR (pytensor.graph.rewriting.basic): Traceback (most recent call last):\n",
            "  File \"/usr/local/python/3.12.1/lib/python3.12/site-packages/pytensor/graph/rewriting/basic.py\", line 1909, in process_node\n",
            "    replacements = node_rewriter.transform(fgraph, node)\n",
            "                   ^^^^^^^^^^^^^^^^^^^^^^^^^^^^^^^^^^^^^\n",
            "  File \"/usr/local/python/3.12.1/lib/python3.12/site-packages/pytensor/graph/rewriting/basic.py\", line 1081, in transform\n",
            "    return self.fn(fgraph, node)\n",
            "           ^^^^^^^^^^^^^^^^^^^^^\n",
            "  File \"/usr/local/python/3.12.1/lib/python3.12/site-packages/pytensor/tensor/rewriting/basic.py\", line 1122, in constant_folding\n",
            "    thunk = node.op.make_thunk(node, storage_map, compute_map, no_recycling=[])\n",
            "            ^^^^^^^^^^^^^^^^^^^^^^^^^^^^^^^^^^^^^^^^^^^^^^^^^^^^^^^^^^^^^^^^^^^\n",
            "  File \"/usr/local/python/3.12.1/lib/python3.12/site-packages/pytensor/link/c/op.py\", line 119, in make_thunk\n",
            "    return self.make_c_thunk(node, storage_map, compute_map, no_recycling)\n",
            "           ^^^^^^^^^^^^^^^^^^^^^^^^^^^^^^^^^^^^^^^^^^^^^^^^^^^^^^^^^^^^^^^\n",
            "  File \"/usr/local/python/3.12.1/lib/python3.12/site-packages/pytensor/link/c/op.py\", line 84, in make_c_thunk\n",
            "    outputs = cl.make_thunk(\n",
            "              ^^^^^^^^^^^^^^\n",
            "  File \"/usr/local/python/3.12.1/lib/python3.12/site-packages/pytensor/link/c/basic.py\", line 1182, in make_thunk\n",
            "    cthunk, module, in_storage, out_storage, error_storage = self.__compile__(\n",
            "                                                             ^^^^^^^^^^^^^^^^^\n",
            "  File \"/usr/local/python/3.12.1/lib/python3.12/site-packages/pytensor/link/c/basic.py\", line 1103, in __compile__\n",
            "    thunk, module = self.cthunk_factory(\n",
            "                    ^^^^^^^^^^^^^^^^^^^^\n",
            "  File \"/usr/local/python/3.12.1/lib/python3.12/site-packages/pytensor/link/c/basic.py\", line 1627, in cthunk_factory\n",
            "    module = cache.module_from_key(key=key, lnk=self)\n",
            "             ^^^^^^^^^^^^^^^^^^^^^^^^^^^^^^^^^^^^^^^^\n",
            "  File \"/usr/local/python/3.12.1/lib/python3.12/site-packages/pytensor/link/c/cmodule.py\", line 1255, in module_from_key\n",
            "    module = lnk.compile_cmodule(location)\n",
            "             ^^^^^^^^^^^^^^^^^^^^^^^^^^^^^\n",
            "  File \"/usr/local/python/3.12.1/lib/python3.12/site-packages/pytensor/link/c/basic.py\", line 1528, in compile_cmodule\n",
            "    module = c_compiler.compile_str(\n",
            "             ^^^^^^^^^^^^^^^^^^^^^^^\n",
            "  File \"/usr/local/python/3.12.1/lib/python3.12/site-packages/pytensor/link/c/cmodule.py\", line 2654, in compile_str\n",
            "    raise CompileError(\n",
            "pytensor.link.c.exceptions.CompileError: Compilation failed (return status=1):\n",
            "/usr/bin/g++ -shared -g -O3 -fno-math-errno -Wno-unused-label -Wno-unused-variable -Wno-write-strings -Wno-c++11-narrowing -fno-exceptions -fno-unwind-tables -fno-asynchronous-unwind-tables -march=icelake-server -mmmx -mno-3dnow -msse -msse2 -msse3 -mssse3 -mno-sse4a -mcx16 -msahf -mmovbe -maes -msha -mpclmul -mpopcnt -mabm -mno-lwp -mfma -mno-fma4 -mno-xop -mbmi -mno-sgx -mbmi2 -mno-pconfig -mno-wbnoinvd -mno-tbm -mavx -mavx2 -msse4.2 -msse4.1 -mlzcnt -mrtm -mhle -mrdrnd -mf16c -mfsgsbase -mrdseed -mprfchw -madx -mfxsr -mxsave -mxsaveopt -mavx512f -mno-avx512er -mavx512cd -mno-avx512pf -mno-prefetchwt1 -mclflushopt -mxsavec -mxsaves -mavx512dq -mavx512bw -mavx512vl -mavx512ifma -mavx512vbmi -mno-avx5124fmaps -mno-avx5124vnniw -mclwb -mno-mwaitx -mno-clzero -mno-pku -mrdpid -mgfni -mno-shstk -mavx512vbmi2 -mavx512vnni -mvaes -mvpclmulqdq -mavx512bitalg -mavx512vpopcntdq -mno-movdiri -mno-movdir64b -mno-waitpkg -mno-cldemote -mno-ptwrite --param l1-cache-size=48 --param l1-cache-line-size=64 --param l2-cache-size=49152 -mtune=icelake-server -DNPY_NO_DEPRECATED_API=NPY_1_7_API_VERSION -m64 -fPIC -I/usr/local/python/3.12.1/lib/python3.12/site-packages/numpy/core/include -I/usr/local/python/3.12.1/include/python3.12 -I/usr/local/python/3.12.1/lib/python3.12/site-packages/pytensor/link/c/c_code -L/usr/local/python/3.12.1/lib -fvisibility=hidden -o /home/codespace/.pytensor/compiledir_Linux-6.5--azure-x86_64-with-glibc2.31-x86_64-3.12.1-64/tmp3yw9bdmh/m0de214ec04e404e0b98e77bebd2d95875e2e4b7b75c150c7f6478c42e61da0fa.so /home/codespace/.pytensor/compiledir_Linux-6.5--azure-x86_64-with-glibc2.31-x86_64-3.12.1-64/tmp3yw9bdmh/mod.cpp -lpython3.12\n",
            "/usr/bin/ld: /usr/local/python/3.12.1/lib/libpython3.12.a(import.o): relocation R_X86_64_TPOFF32 against hidden symbol `pkgcontext' can not be used when making a shared object\n",
            "/usr/bin/ld: /usr/local/python/3.12.1/lib/libpython3.12.a(pystate.o): relocation R_X86_64_TPOFF32 against hidden symbol `_Py_tss_tstate' can not be used when making a shared object\n",
            "/usr/bin/ld: /usr/local/python/3.12.1/lib/libpython3.12.a(longobject.o): relocation R_X86_64_PC32 against symbol `_Py_TrueStruct' can not be used when making a shared object; recompile with -fPIC\n",
            "/usr/bin/ld: final link failed: bad value\n",
            "collect2: error: ld returned 1 exit status\n",
            "\n",
            "\n"
          ]
        },
        {
          "name": "stdout",
          "output_type": "stream",
          "text": [
            "\n",
            "You can find the C code in this temporary file: /tmp/pytensor_compilation_error_pc3l2mv0\n"
          ]
        },
        {
          "name": "stderr",
          "output_type": "stream",
          "text": [
            "ERROR (pytensor.graph.rewriting.basic): Rewrite failure due to: constant_folding\n",
            "ERROR (pytensor.graph.rewriting.basic): node: Cast{float64}(2)\n",
            "ERROR (pytensor.graph.rewriting.basic): TRACEBACK:\n",
            "ERROR (pytensor.graph.rewriting.basic): Traceback (most recent call last):\n",
            "  File \"/usr/local/python/3.12.1/lib/python3.12/site-packages/pytensor/graph/rewriting/basic.py\", line 1909, in process_node\n",
            "    replacements = node_rewriter.transform(fgraph, node)\n",
            "                   ^^^^^^^^^^^^^^^^^^^^^^^^^^^^^^^^^^^^^\n",
            "  File \"/usr/local/python/3.12.1/lib/python3.12/site-packages/pytensor/graph/rewriting/basic.py\", line 1081, in transform\n",
            "    return self.fn(fgraph, node)\n",
            "           ^^^^^^^^^^^^^^^^^^^^^\n",
            "  File \"/usr/local/python/3.12.1/lib/python3.12/site-packages/pytensor/tensor/rewriting/basic.py\", line 1122, in constant_folding\n",
            "    thunk = node.op.make_thunk(node, storage_map, compute_map, no_recycling=[])\n",
            "            ^^^^^^^^^^^^^^^^^^^^^^^^^^^^^^^^^^^^^^^^^^^^^^^^^^^^^^^^^^^^^^^^^^^\n",
            "  File \"/usr/local/python/3.12.1/lib/python3.12/site-packages/pytensor/link/c/op.py\", line 119, in make_thunk\n",
            "    return self.make_c_thunk(node, storage_map, compute_map, no_recycling)\n",
            "           ^^^^^^^^^^^^^^^^^^^^^^^^^^^^^^^^^^^^^^^^^^^^^^^^^^^^^^^^^^^^^^^\n",
            "  File \"/usr/local/python/3.12.1/lib/python3.12/site-packages/pytensor/link/c/op.py\", line 84, in make_c_thunk\n",
            "    outputs = cl.make_thunk(\n",
            "              ^^^^^^^^^^^^^^\n",
            "  File \"/usr/local/python/3.12.1/lib/python3.12/site-packages/pytensor/link/c/basic.py\", line 1182, in make_thunk\n",
            "    cthunk, module, in_storage, out_storage, error_storage = self.__compile__(\n",
            "                                                             ^^^^^^^^^^^^^^^^^\n",
            "  File \"/usr/local/python/3.12.1/lib/python3.12/site-packages/pytensor/link/c/basic.py\", line 1103, in __compile__\n",
            "    thunk, module = self.cthunk_factory(\n",
            "                    ^^^^^^^^^^^^^^^^^^^^\n",
            "  File \"/usr/local/python/3.12.1/lib/python3.12/site-packages/pytensor/link/c/basic.py\", line 1627, in cthunk_factory\n",
            "    module = cache.module_from_key(key=key, lnk=self)\n",
            "             ^^^^^^^^^^^^^^^^^^^^^^^^^^^^^^^^^^^^^^^^\n",
            "  File \"/usr/local/python/3.12.1/lib/python3.12/site-packages/pytensor/link/c/cmodule.py\", line 1255, in module_from_key\n",
            "    module = lnk.compile_cmodule(location)\n",
            "             ^^^^^^^^^^^^^^^^^^^^^^^^^^^^^\n",
            "  File \"/usr/local/python/3.12.1/lib/python3.12/site-packages/pytensor/link/c/basic.py\", line 1528, in compile_cmodule\n",
            "    module = c_compiler.compile_str(\n",
            "             ^^^^^^^^^^^^^^^^^^^^^^^\n",
            "  File \"/usr/local/python/3.12.1/lib/python3.12/site-packages/pytensor/link/c/cmodule.py\", line 2654, in compile_str\n",
            "    raise CompileError(\n",
            "pytensor.link.c.exceptions.CompileError: Compilation failed (return status=1):\n",
            "/usr/bin/g++ -shared -g -O3 -fno-math-errno -Wno-unused-label -Wno-unused-variable -Wno-write-strings -Wno-c++11-narrowing -fno-exceptions -fno-unwind-tables -fno-asynchronous-unwind-tables -march=icelake-server -mmmx -mno-3dnow -msse -msse2 -msse3 -mssse3 -mno-sse4a -mcx16 -msahf -mmovbe -maes -msha -mpclmul -mpopcnt -mabm -mno-lwp -mfma -mno-fma4 -mno-xop -mbmi -mno-sgx -mbmi2 -mno-pconfig -mno-wbnoinvd -mno-tbm -mavx -mavx2 -msse4.2 -msse4.1 -mlzcnt -mrtm -mhle -mrdrnd -mf16c -mfsgsbase -mrdseed -mprfchw -madx -mfxsr -mxsave -mxsaveopt -mavx512f -mno-avx512er -mavx512cd -mno-avx512pf -mno-prefetchwt1 -mclflushopt -mxsavec -mxsaves -mavx512dq -mavx512bw -mavx512vl -mavx512ifma -mavx512vbmi -mno-avx5124fmaps -mno-avx5124vnniw -mclwb -mno-mwaitx -mno-clzero -mno-pku -mrdpid -mgfni -mno-shstk -mavx512vbmi2 -mavx512vnni -mvaes -mvpclmulqdq -mavx512bitalg -mavx512vpopcntdq -mno-movdiri -mno-movdir64b -mno-waitpkg -mno-cldemote -mno-ptwrite --param l1-cache-size=48 --param l1-cache-line-size=64 --param l2-cache-size=49152 -mtune=icelake-server -DNPY_NO_DEPRECATED_API=NPY_1_7_API_VERSION -m64 -fPIC -I/usr/local/python/3.12.1/lib/python3.12/site-packages/numpy/core/include -I/usr/local/python/3.12.1/include/python3.12 -I/usr/local/python/3.12.1/lib/python3.12/site-packages/pytensor/link/c/c_code -L/usr/local/python/3.12.1/lib -fvisibility=hidden -o /home/codespace/.pytensor/compiledir_Linux-6.5--azure-x86_64-with-glibc2.31-x86_64-3.12.1-64/tmploo1oqi2/m0de214ec04e404e0b98e77bebd2d95875e2e4b7b75c150c7f6478c42e61da0fa.so /home/codespace/.pytensor/compiledir_Linux-6.5--azure-x86_64-with-glibc2.31-x86_64-3.12.1-64/tmploo1oqi2/mod.cpp -lpython3.12\n",
            "/usr/bin/ld: /usr/local/python/3.12.1/lib/libpython3.12.a(import.o): relocation R_X86_64_TPOFF32 against hidden symbol `pkgcontext' can not be used when making a shared object\n",
            "/usr/bin/ld: /usr/local/python/3.12.1/lib/libpython3.12.a(pystate.o): relocation R_X86_64_TPOFF32 against hidden symbol `_Py_tss_tstate' can not be used when making a shared object\n",
            "/usr/bin/ld: /usr/local/python/3.12.1/lib/libpython3.12.a(longobject.o): relocation R_X86_64_PC32 against symbol `_Py_TrueStruct' can not be used when making a shared object; recompile with -fPIC\n",
            "/usr/bin/ld: final link failed: bad value\n",
            "collect2: error: ld returned 1 exit status\n",
            "\n",
            "\n"
          ]
        },
        {
          "name": "stdout",
          "output_type": "stream",
          "text": [
            "\n",
            "You can find the C code in this temporary file: /tmp/pytensor_compilation_error_t2s20uh4\n"
          ]
        },
        {
          "name": "stderr",
          "output_type": "stream",
          "text": [
            "ERROR (pytensor.graph.rewriting.basic): Rewrite failure due to: constant_folding\n",
            "ERROR (pytensor.graph.rewriting.basic): node: Cast{float64}(1)\n",
            "ERROR (pytensor.graph.rewriting.basic): TRACEBACK:\n",
            "ERROR (pytensor.graph.rewriting.basic): Traceback (most recent call last):\n",
            "  File \"/usr/local/python/3.12.1/lib/python3.12/site-packages/pytensor/graph/rewriting/basic.py\", line 1909, in process_node\n",
            "    replacements = node_rewriter.transform(fgraph, node)\n",
            "                   ^^^^^^^^^^^^^^^^^^^^^^^^^^^^^^^^^^^^^\n",
            "  File \"/usr/local/python/3.12.1/lib/python3.12/site-packages/pytensor/graph/rewriting/basic.py\", line 1081, in transform\n",
            "    return self.fn(fgraph, node)\n",
            "           ^^^^^^^^^^^^^^^^^^^^^\n",
            "  File \"/usr/local/python/3.12.1/lib/python3.12/site-packages/pytensor/tensor/rewriting/basic.py\", line 1122, in constant_folding\n",
            "    thunk = node.op.make_thunk(node, storage_map, compute_map, no_recycling=[])\n",
            "            ^^^^^^^^^^^^^^^^^^^^^^^^^^^^^^^^^^^^^^^^^^^^^^^^^^^^^^^^^^^^^^^^^^^\n",
            "  File \"/usr/local/python/3.12.1/lib/python3.12/site-packages/pytensor/link/c/op.py\", line 119, in make_thunk\n",
            "    return self.make_c_thunk(node, storage_map, compute_map, no_recycling)\n",
            "           ^^^^^^^^^^^^^^^^^^^^^^^^^^^^^^^^^^^^^^^^^^^^^^^^^^^^^^^^^^^^^^^\n",
            "  File \"/usr/local/python/3.12.1/lib/python3.12/site-packages/pytensor/link/c/op.py\", line 84, in make_c_thunk\n",
            "    outputs = cl.make_thunk(\n",
            "              ^^^^^^^^^^^^^^\n",
            "  File \"/usr/local/python/3.12.1/lib/python3.12/site-packages/pytensor/link/c/basic.py\", line 1182, in make_thunk\n",
            "    cthunk, module, in_storage, out_storage, error_storage = self.__compile__(\n",
            "                                                             ^^^^^^^^^^^^^^^^^\n",
            "  File \"/usr/local/python/3.12.1/lib/python3.12/site-packages/pytensor/link/c/basic.py\", line 1103, in __compile__\n",
            "    thunk, module = self.cthunk_factory(\n",
            "                    ^^^^^^^^^^^^^^^^^^^^\n",
            "  File \"/usr/local/python/3.12.1/lib/python3.12/site-packages/pytensor/link/c/basic.py\", line 1627, in cthunk_factory\n",
            "    module = cache.module_from_key(key=key, lnk=self)\n",
            "             ^^^^^^^^^^^^^^^^^^^^^^^^^^^^^^^^^^^^^^^^\n",
            "  File \"/usr/local/python/3.12.1/lib/python3.12/site-packages/pytensor/link/c/cmodule.py\", line 1255, in module_from_key\n",
            "    module = lnk.compile_cmodule(location)\n",
            "             ^^^^^^^^^^^^^^^^^^^^^^^^^^^^^\n",
            "  File \"/usr/local/python/3.12.1/lib/python3.12/site-packages/pytensor/link/c/basic.py\", line 1528, in compile_cmodule\n",
            "    module = c_compiler.compile_str(\n",
            "             ^^^^^^^^^^^^^^^^^^^^^^^\n",
            "  File \"/usr/local/python/3.12.1/lib/python3.12/site-packages/pytensor/link/c/cmodule.py\", line 2654, in compile_str\n",
            "    raise CompileError(\n",
            "pytensor.link.c.exceptions.CompileError: Compilation failed (return status=1):\n",
            "/usr/bin/g++ -shared -g -O3 -fno-math-errno -Wno-unused-label -Wno-unused-variable -Wno-write-strings -Wno-c++11-narrowing -fno-exceptions -fno-unwind-tables -fno-asynchronous-unwind-tables -march=icelake-server -mmmx -mno-3dnow -msse -msse2 -msse3 -mssse3 -mno-sse4a -mcx16 -msahf -mmovbe -maes -msha -mpclmul -mpopcnt -mabm -mno-lwp -mfma -mno-fma4 -mno-xop -mbmi -mno-sgx -mbmi2 -mno-pconfig -mno-wbnoinvd -mno-tbm -mavx -mavx2 -msse4.2 -msse4.1 -mlzcnt -mrtm -mhle -mrdrnd -mf16c -mfsgsbase -mrdseed -mprfchw -madx -mfxsr -mxsave -mxsaveopt -mavx512f -mno-avx512er -mavx512cd -mno-avx512pf -mno-prefetchwt1 -mclflushopt -mxsavec -mxsaves -mavx512dq -mavx512bw -mavx512vl -mavx512ifma -mavx512vbmi -mno-avx5124fmaps -mno-avx5124vnniw -mclwb -mno-mwaitx -mno-clzero -mno-pku -mrdpid -mgfni -mno-shstk -mavx512vbmi2 -mavx512vnni -mvaes -mvpclmulqdq -mavx512bitalg -mavx512vpopcntdq -mno-movdiri -mno-movdir64b -mno-waitpkg -mno-cldemote -mno-ptwrite --param l1-cache-size=48 --param l1-cache-line-size=64 --param l2-cache-size=49152 -mtune=icelake-server -DNPY_NO_DEPRECATED_API=NPY_1_7_API_VERSION -m64 -fPIC -I/usr/local/python/3.12.1/lib/python3.12/site-packages/numpy/core/include -I/usr/local/python/3.12.1/include/python3.12 -I/usr/local/python/3.12.1/lib/python3.12/site-packages/pytensor/link/c/c_code -L/usr/local/python/3.12.1/lib -fvisibility=hidden -o /home/codespace/.pytensor/compiledir_Linux-6.5--azure-x86_64-with-glibc2.31-x86_64-3.12.1-64/tmp7m17620t/m0de214ec04e404e0b98e77bebd2d95875e2e4b7b75c150c7f6478c42e61da0fa.so /home/codespace/.pytensor/compiledir_Linux-6.5--azure-x86_64-with-glibc2.31-x86_64-3.12.1-64/tmp7m17620t/mod.cpp -lpython3.12\n",
            "/usr/bin/ld: /usr/local/python/3.12.1/lib/libpython3.12.a(import.o): relocation R_X86_64_TPOFF32 against hidden symbol `pkgcontext' can not be used when making a shared object\n",
            "/usr/bin/ld: /usr/local/python/3.12.1/lib/libpython3.12.a(pystate.o): relocation R_X86_64_TPOFF32 against hidden symbol `_Py_tss_tstate' can not be used when making a shared object\n",
            "/usr/bin/ld: /usr/local/python/3.12.1/lib/libpython3.12.a(longobject.o): relocation R_X86_64_PC32 against symbol `_Py_TrueStruct' can not be used when making a shared object; recompile with -fPIC\n",
            "/usr/bin/ld: final link failed: bad value\n",
            "collect2: error: ld returned 1 exit status\n",
            "\n",
            "\n"
          ]
        },
        {
          "name": "stdout",
          "output_type": "stream",
          "text": [
            "\n",
            "You can find the C code in this temporary file: /tmp/pytensor_compilation_error_a2wmf8br\n"
          ]
        },
        {
          "name": "stderr",
          "output_type": "stream",
          "text": [
            "ERROR (pytensor.graph.rewriting.basic): Rewrite failure due to: constant_folding\n",
            "ERROR (pytensor.graph.rewriting.basic): node: Cast{float64}(2)\n",
            "ERROR (pytensor.graph.rewriting.basic): TRACEBACK:\n",
            "ERROR (pytensor.graph.rewriting.basic): Traceback (most recent call last):\n",
            "  File \"/usr/local/python/3.12.1/lib/python3.12/site-packages/pytensor/graph/rewriting/basic.py\", line 1909, in process_node\n",
            "    replacements = node_rewriter.transform(fgraph, node)\n",
            "                   ^^^^^^^^^^^^^^^^^^^^^^^^^^^^^^^^^^^^^\n",
            "  File \"/usr/local/python/3.12.1/lib/python3.12/site-packages/pytensor/graph/rewriting/basic.py\", line 1081, in transform\n",
            "    return self.fn(fgraph, node)\n",
            "           ^^^^^^^^^^^^^^^^^^^^^\n",
            "  File \"/usr/local/python/3.12.1/lib/python3.12/site-packages/pytensor/tensor/rewriting/basic.py\", line 1122, in constant_folding\n",
            "    thunk = node.op.make_thunk(node, storage_map, compute_map, no_recycling=[])\n",
            "            ^^^^^^^^^^^^^^^^^^^^^^^^^^^^^^^^^^^^^^^^^^^^^^^^^^^^^^^^^^^^^^^^^^^\n",
            "  File \"/usr/local/python/3.12.1/lib/python3.12/site-packages/pytensor/link/c/op.py\", line 119, in make_thunk\n",
            "    return self.make_c_thunk(node, storage_map, compute_map, no_recycling)\n",
            "           ^^^^^^^^^^^^^^^^^^^^^^^^^^^^^^^^^^^^^^^^^^^^^^^^^^^^^^^^^^^^^^^\n",
            "  File \"/usr/local/python/3.12.1/lib/python3.12/site-packages/pytensor/link/c/op.py\", line 84, in make_c_thunk\n",
            "    outputs = cl.make_thunk(\n",
            "              ^^^^^^^^^^^^^^\n",
            "  File \"/usr/local/python/3.12.1/lib/python3.12/site-packages/pytensor/link/c/basic.py\", line 1182, in make_thunk\n",
            "    cthunk, module, in_storage, out_storage, error_storage = self.__compile__(\n",
            "                                                             ^^^^^^^^^^^^^^^^^\n",
            "  File \"/usr/local/python/3.12.1/lib/python3.12/site-packages/pytensor/link/c/basic.py\", line 1103, in __compile__\n",
            "    thunk, module = self.cthunk_factory(\n",
            "                    ^^^^^^^^^^^^^^^^^^^^\n",
            "  File \"/usr/local/python/3.12.1/lib/python3.12/site-packages/pytensor/link/c/basic.py\", line 1627, in cthunk_factory\n",
            "    module = cache.module_from_key(key=key, lnk=self)\n",
            "             ^^^^^^^^^^^^^^^^^^^^^^^^^^^^^^^^^^^^^^^^\n",
            "  File \"/usr/local/python/3.12.1/lib/python3.12/site-packages/pytensor/link/c/cmodule.py\", line 1255, in module_from_key\n",
            "    module = lnk.compile_cmodule(location)\n",
            "             ^^^^^^^^^^^^^^^^^^^^^^^^^^^^^\n",
            "  File \"/usr/local/python/3.12.1/lib/python3.12/site-packages/pytensor/link/c/basic.py\", line 1528, in compile_cmodule\n",
            "    module = c_compiler.compile_str(\n",
            "             ^^^^^^^^^^^^^^^^^^^^^^^\n",
            "  File \"/usr/local/python/3.12.1/lib/python3.12/site-packages/pytensor/link/c/cmodule.py\", line 2654, in compile_str\n",
            "    raise CompileError(\n",
            "pytensor.link.c.exceptions.CompileError: Compilation failed (return status=1):\n",
            "/usr/bin/g++ -shared -g -O3 -fno-math-errno -Wno-unused-label -Wno-unused-variable -Wno-write-strings -Wno-c++11-narrowing -fno-exceptions -fno-unwind-tables -fno-asynchronous-unwind-tables -march=icelake-server -mmmx -mno-3dnow -msse -msse2 -msse3 -mssse3 -mno-sse4a -mcx16 -msahf -mmovbe -maes -msha -mpclmul -mpopcnt -mabm -mno-lwp -mfma -mno-fma4 -mno-xop -mbmi -mno-sgx -mbmi2 -mno-pconfig -mno-wbnoinvd -mno-tbm -mavx -mavx2 -msse4.2 -msse4.1 -mlzcnt -mrtm -mhle -mrdrnd -mf16c -mfsgsbase -mrdseed -mprfchw -madx -mfxsr -mxsave -mxsaveopt -mavx512f -mno-avx512er -mavx512cd -mno-avx512pf -mno-prefetchwt1 -mclflushopt -mxsavec -mxsaves -mavx512dq -mavx512bw -mavx512vl -mavx512ifma -mavx512vbmi -mno-avx5124fmaps -mno-avx5124vnniw -mclwb -mno-mwaitx -mno-clzero -mno-pku -mrdpid -mgfni -mno-shstk -mavx512vbmi2 -mavx512vnni -mvaes -mvpclmulqdq -mavx512bitalg -mavx512vpopcntdq -mno-movdiri -mno-movdir64b -mno-waitpkg -mno-cldemote -mno-ptwrite --param l1-cache-size=48 --param l1-cache-line-size=64 --param l2-cache-size=49152 -mtune=icelake-server -DNPY_NO_DEPRECATED_API=NPY_1_7_API_VERSION -m64 -fPIC -I/usr/local/python/3.12.1/lib/python3.12/site-packages/numpy/core/include -I/usr/local/python/3.12.1/include/python3.12 -I/usr/local/python/3.12.1/lib/python3.12/site-packages/pytensor/link/c/c_code -L/usr/local/python/3.12.1/lib -fvisibility=hidden -o /home/codespace/.pytensor/compiledir_Linux-6.5--azure-x86_64-with-glibc2.31-x86_64-3.12.1-64/tmpn7qn54zh/m0de214ec04e404e0b98e77bebd2d95875e2e4b7b75c150c7f6478c42e61da0fa.so /home/codespace/.pytensor/compiledir_Linux-6.5--azure-x86_64-with-glibc2.31-x86_64-3.12.1-64/tmpn7qn54zh/mod.cpp -lpython3.12\n",
            "/usr/bin/ld: /usr/local/python/3.12.1/lib/libpython3.12.a(import.o): relocation R_X86_64_TPOFF32 against hidden symbol `pkgcontext' can not be used when making a shared object\n",
            "/usr/bin/ld: /usr/local/python/3.12.1/lib/libpython3.12.a(pystate.o): relocation R_X86_64_TPOFF32 against hidden symbol `_Py_tss_tstate' can not be used when making a shared object\n",
            "/usr/bin/ld: /usr/local/python/3.12.1/lib/libpython3.12.a(longobject.o): relocation R_X86_64_PC32 against symbol `_Py_TrueStruct' can not be used when making a shared object; recompile with -fPIC\n",
            "/usr/bin/ld: final link failed: bad value\n",
            "collect2: error: ld returned 1 exit status\n",
            "\n",
            "\n"
          ]
        },
        {
          "name": "stdout",
          "output_type": "stream",
          "text": [
            "\n",
            "You can find the C code in this temporary file: /tmp/pytensor_compilation_error_5mrfnso6\n"
          ]
        },
        {
          "name": "stderr",
          "output_type": "stream",
          "text": [
            "ERROR (pytensor.graph.rewriting.basic): Rewrite failure due to: constant_folding\n",
            "ERROR (pytensor.graph.rewriting.basic): node: Cast{float64}(1)\n",
            "ERROR (pytensor.graph.rewriting.basic): TRACEBACK:\n",
            "ERROR (pytensor.graph.rewriting.basic): Traceback (most recent call last):\n",
            "  File \"/usr/local/python/3.12.1/lib/python3.12/site-packages/pytensor/graph/rewriting/basic.py\", line 1909, in process_node\n",
            "    replacements = node_rewriter.transform(fgraph, node)\n",
            "                   ^^^^^^^^^^^^^^^^^^^^^^^^^^^^^^^^^^^^^\n",
            "  File \"/usr/local/python/3.12.1/lib/python3.12/site-packages/pytensor/graph/rewriting/basic.py\", line 1081, in transform\n",
            "    return self.fn(fgraph, node)\n",
            "           ^^^^^^^^^^^^^^^^^^^^^\n",
            "  File \"/usr/local/python/3.12.1/lib/python3.12/site-packages/pytensor/tensor/rewriting/basic.py\", line 1122, in constant_folding\n",
            "    thunk = node.op.make_thunk(node, storage_map, compute_map, no_recycling=[])\n",
            "            ^^^^^^^^^^^^^^^^^^^^^^^^^^^^^^^^^^^^^^^^^^^^^^^^^^^^^^^^^^^^^^^^^^^\n",
            "  File \"/usr/local/python/3.12.1/lib/python3.12/site-packages/pytensor/link/c/op.py\", line 119, in make_thunk\n",
            "    return self.make_c_thunk(node, storage_map, compute_map, no_recycling)\n",
            "           ^^^^^^^^^^^^^^^^^^^^^^^^^^^^^^^^^^^^^^^^^^^^^^^^^^^^^^^^^^^^^^^\n",
            "  File \"/usr/local/python/3.12.1/lib/python3.12/site-packages/pytensor/link/c/op.py\", line 84, in make_c_thunk\n",
            "    outputs = cl.make_thunk(\n",
            "              ^^^^^^^^^^^^^^\n",
            "  File \"/usr/local/python/3.12.1/lib/python3.12/site-packages/pytensor/link/c/basic.py\", line 1182, in make_thunk\n",
            "    cthunk, module, in_storage, out_storage, error_storage = self.__compile__(\n",
            "                                                             ^^^^^^^^^^^^^^^^^\n",
            "  File \"/usr/local/python/3.12.1/lib/python3.12/site-packages/pytensor/link/c/basic.py\", line 1103, in __compile__\n",
            "    thunk, module = self.cthunk_factory(\n",
            "                    ^^^^^^^^^^^^^^^^^^^^\n",
            "  File \"/usr/local/python/3.12.1/lib/python3.12/site-packages/pytensor/link/c/basic.py\", line 1627, in cthunk_factory\n",
            "    module = cache.module_from_key(key=key, lnk=self)\n",
            "             ^^^^^^^^^^^^^^^^^^^^^^^^^^^^^^^^^^^^^^^^\n",
            "  File \"/usr/local/python/3.12.1/lib/python3.12/site-packages/pytensor/link/c/cmodule.py\", line 1255, in module_from_key\n",
            "    module = lnk.compile_cmodule(location)\n",
            "             ^^^^^^^^^^^^^^^^^^^^^^^^^^^^^\n",
            "  File \"/usr/local/python/3.12.1/lib/python3.12/site-packages/pytensor/link/c/basic.py\", line 1528, in compile_cmodule\n",
            "    module = c_compiler.compile_str(\n",
            "             ^^^^^^^^^^^^^^^^^^^^^^^\n",
            "  File \"/usr/local/python/3.12.1/lib/python3.12/site-packages/pytensor/link/c/cmodule.py\", line 2654, in compile_str\n",
            "    raise CompileError(\n",
            "pytensor.link.c.exceptions.CompileError: Compilation failed (return status=1):\n",
            "/usr/bin/g++ -shared -g -O3 -fno-math-errno -Wno-unused-label -Wno-unused-variable -Wno-write-strings -Wno-c++11-narrowing -fno-exceptions -fno-unwind-tables -fno-asynchronous-unwind-tables -march=icelake-server -mmmx -mno-3dnow -msse -msse2 -msse3 -mssse3 -mno-sse4a -mcx16 -msahf -mmovbe -maes -msha -mpclmul -mpopcnt -mabm -mno-lwp -mfma -mno-fma4 -mno-xop -mbmi -mno-sgx -mbmi2 -mno-pconfig -mno-wbnoinvd -mno-tbm -mavx -mavx2 -msse4.2 -msse4.1 -mlzcnt -mrtm -mhle -mrdrnd -mf16c -mfsgsbase -mrdseed -mprfchw -madx -mfxsr -mxsave -mxsaveopt -mavx512f -mno-avx512er -mavx512cd -mno-avx512pf -mno-prefetchwt1 -mclflushopt -mxsavec -mxsaves -mavx512dq -mavx512bw -mavx512vl -mavx512ifma -mavx512vbmi -mno-avx5124fmaps -mno-avx5124vnniw -mclwb -mno-mwaitx -mno-clzero -mno-pku -mrdpid -mgfni -mno-shstk -mavx512vbmi2 -mavx512vnni -mvaes -mvpclmulqdq -mavx512bitalg -mavx512vpopcntdq -mno-movdiri -mno-movdir64b -mno-waitpkg -mno-cldemote -mno-ptwrite --param l1-cache-size=48 --param l1-cache-line-size=64 --param l2-cache-size=49152 -mtune=icelake-server -DNPY_NO_DEPRECATED_API=NPY_1_7_API_VERSION -m64 -fPIC -I/usr/local/python/3.12.1/lib/python3.12/site-packages/numpy/core/include -I/usr/local/python/3.12.1/include/python3.12 -I/usr/local/python/3.12.1/lib/python3.12/site-packages/pytensor/link/c/c_code -L/usr/local/python/3.12.1/lib -fvisibility=hidden -o /home/codespace/.pytensor/compiledir_Linux-6.5--azure-x86_64-with-glibc2.31-x86_64-3.12.1-64/tmpntfie05m/m0de214ec04e404e0b98e77bebd2d95875e2e4b7b75c150c7f6478c42e61da0fa.so /home/codespace/.pytensor/compiledir_Linux-6.5--azure-x86_64-with-glibc2.31-x86_64-3.12.1-64/tmpntfie05m/mod.cpp -lpython3.12\n",
            "/usr/bin/ld: /usr/local/python/3.12.1/lib/libpython3.12.a(import.o): relocation R_X86_64_TPOFF32 against hidden symbol `pkgcontext' can not be used when making a shared object\n",
            "/usr/bin/ld: /usr/local/python/3.12.1/lib/libpython3.12.a(pystate.o): relocation R_X86_64_TPOFF32 against hidden symbol `_Py_tss_tstate' can not be used when making a shared object\n",
            "/usr/bin/ld: /usr/local/python/3.12.1/lib/libpython3.12.a(longobject.o): relocation R_X86_64_PC32 against symbol `_Py_TrueStruct' can not be used when making a shared object; recompile with -fPIC\n",
            "/usr/bin/ld: final link failed: bad value\n",
            "collect2: error: ld returned 1 exit status\n",
            "\n",
            "\n"
          ]
        },
        {
          "name": "stdout",
          "output_type": "stream",
          "text": [
            "\n",
            "You can find the C code in this temporary file: /tmp/pytensor_compilation_error_7dazt19c\n",
            "\n",
            "You can find the C code in this temporary file: /tmp/pytensor_compilation_error_0m9py5d7\n"
          ]
        },
        {
          "ename": "CompileError",
          "evalue": "Compilation failed (return status=1):\n/usr/bin/g++ -shared -g -Wno-c++11-narrowing -fno-exceptions -fno-unwind-tables -fno-asynchronous-unwind-tables -march=icelake-server -mmmx -mno-3dnow -msse -msse2 -msse3 -mssse3 -mno-sse4a -mcx16 -msahf -mmovbe -maes -msha -mpclmul -mpopcnt -mabm -mno-lwp -mfma -mno-fma4 -mno-xop -mbmi -mno-sgx -mbmi2 -mno-pconfig -mno-wbnoinvd -mno-tbm -mavx -mavx2 -msse4.2 -msse4.1 -mlzcnt -mrtm -mhle -mrdrnd -mf16c -mfsgsbase -mrdseed -mprfchw -madx -mfxsr -mxsave -mxsaveopt -mavx512f -mno-avx512er -mavx512cd -mno-avx512pf -mno-prefetchwt1 -mclflushopt -mxsavec -mxsaves -mavx512dq -mavx512bw -mavx512vl -mavx512ifma -mavx512vbmi -mno-avx5124fmaps -mno-avx5124vnniw -mclwb -mno-mwaitx -mno-clzero -mno-pku -mrdpid -mgfni -mno-shstk -mavx512vbmi2 -mavx512vnni -mvaes -mvpclmulqdq -mavx512bitalg -mavx512vpopcntdq -mno-movdiri -mno-movdir64b -mno-waitpkg -mno-cldemote -mno-ptwrite --param l1-cache-size=48 --param l1-cache-line-size=64 --param l2-cache-size=49152 -mtune=icelake-server -DNPY_NO_DEPRECATED_API=NPY_1_7_API_VERSION -m64 -fPIC -I/usr/local/python/3.12.1/lib/python3.12/site-packages/numpy/core/include -I/usr/local/python/3.12.1/include/python3.12 -I/usr/local/python/3.12.1/lib/python3.12/site-packages/pytensor/link/c/c_code -L/usr/local/python/3.12.1/lib -fvisibility=hidden -o /home/codespace/.pytensor/compiledir_Linux-6.5--azure-x86_64-with-glibc2.31-x86_64-3.12.1-64/lazylinker_ext/lazylinker_ext.so /home/codespace/.pytensor/compiledir_Linux-6.5--azure-x86_64-with-glibc2.31-x86_64-3.12.1-64/lazylinker_ext/mod.cpp -lpython3.12\n/usr/bin/ld: /usr/local/python/3.12.1/lib/libpython3.12.a(import.o): relocation R_X86_64_TPOFF32 against hidden symbol `pkgcontext' can not be used when making a shared object\n/usr/bin/ld: /usr/local/python/3.12.1/lib/libpython3.12.a(pystate.o): relocation R_X86_64_TPOFF32 against hidden symbol `_Py_tss_tstate' can not be used when making a shared object\n/usr/bin/ld: /usr/local/python/3.12.1/lib/libpython3.12.a(bytearrayobject.o): relocation R_X86_64_PC32 against symbol `_Py_NoneStruct' can not be used when making a shared object; recompile with -fPIC\n/usr/bin/ld: final link failed: bad value\ncollect2: error: ld returned 1 exit status\n",
          "output_type": "error",
          "traceback": [
            "\u001b[0;31m---------------------------------------------------------------------------\u001b[0m",
            "\u001b[0;31mImportError\u001b[0m                               Traceback (most recent call last)",
            "File \u001b[0;32m/usr/local/python/3.12.1/lib/python3.12/site-packages/pytensor/link/c/lazylinker_c.py:66\u001b[0m\n\u001b[1;32m     65\u001b[0m         \u001b[38;5;28;01mif\u001b[39;00m version \u001b[38;5;241m!=\u001b[39m actual_version:\n\u001b[0;32m---> 66\u001b[0m             \u001b[38;5;28;01mraise\u001b[39;00m \u001b[38;5;167;01mImportError\u001b[39;00m(\n\u001b[1;32m     67\u001b[0m                 \u001b[38;5;124m\"\u001b[39m\u001b[38;5;124mVersion check of the existing lazylinker compiled file.\u001b[39m\u001b[38;5;124m\"\u001b[39m\n\u001b[1;32m     68\u001b[0m                 \u001b[38;5;124mf\u001b[39m\u001b[38;5;124m\"\u001b[39m\u001b[38;5;124m Looking for version \u001b[39m\u001b[38;5;132;01m{\u001b[39;00mversion\u001b[38;5;132;01m}\u001b[39;00m\u001b[38;5;124m, but found \u001b[39m\u001b[38;5;132;01m{\u001b[39;00mactual_version\u001b[38;5;132;01m}\u001b[39;00m\u001b[38;5;124m. \u001b[39m\u001b[38;5;124m\"\u001b[39m\n\u001b[1;32m     69\u001b[0m                 \u001b[38;5;124mf\u001b[39m\u001b[38;5;124m\"\u001b[39m\u001b[38;5;124mExtra debug information: force_compile=\u001b[39m\u001b[38;5;132;01m{\u001b[39;00mforce_compile\u001b[38;5;132;01m}\u001b[39;00m\u001b[38;5;124m, _need_reload=\u001b[39m\u001b[38;5;132;01m{\u001b[39;00m_need_reload\u001b[38;5;132;01m}\u001b[39;00m\u001b[38;5;124m\"\u001b[39m\n\u001b[1;32m     70\u001b[0m             )\n\u001b[1;32m     71\u001b[0m \u001b[38;5;28;01mexcept\u001b[39;00m \u001b[38;5;167;01mImportError\u001b[39;00m:\n",
            "\u001b[0;31mImportError\u001b[0m: Version check of the existing lazylinker compiled file. Looking for version 0.212, but found None. Extra debug information: force_compile=False, _need_reload=True",
            "\nDuring handling of the above exception, another exception occurred:\n",
            "\u001b[0;31mImportError\u001b[0m                               Traceback (most recent call last)",
            "File \u001b[0;32m/usr/local/python/3.12.1/lib/python3.12/site-packages/pytensor/link/c/lazylinker_c.py:87\u001b[0m\n\u001b[1;32m     86\u001b[0m     \u001b[38;5;28;01mif\u001b[39;00m version \u001b[38;5;241m!=\u001b[39m actual_version:\n\u001b[0;32m---> 87\u001b[0m         \u001b[38;5;28;01mraise\u001b[39;00m \u001b[38;5;167;01mImportError\u001b[39;00m(\n\u001b[1;32m     88\u001b[0m             \u001b[38;5;124m\"\u001b[39m\u001b[38;5;124mVersion check of the existing lazylinker compiled file.\u001b[39m\u001b[38;5;124m\"\u001b[39m\n\u001b[1;32m     89\u001b[0m             \u001b[38;5;124mf\u001b[39m\u001b[38;5;124m\"\u001b[39m\u001b[38;5;124m Looking for version \u001b[39m\u001b[38;5;132;01m{\u001b[39;00mversion\u001b[38;5;132;01m}\u001b[39;00m\u001b[38;5;124m, but found \u001b[39m\u001b[38;5;132;01m{\u001b[39;00mactual_version\u001b[38;5;132;01m}\u001b[39;00m\u001b[38;5;124m. \u001b[39m\u001b[38;5;124m\"\u001b[39m\n\u001b[1;32m     90\u001b[0m             \u001b[38;5;124mf\u001b[39m\u001b[38;5;124m\"\u001b[39m\u001b[38;5;124mExtra debug information: force_compile=\u001b[39m\u001b[38;5;132;01m{\u001b[39;00mforce_compile\u001b[38;5;132;01m}\u001b[39;00m\u001b[38;5;124m, _need_reload=\u001b[39m\u001b[38;5;132;01m{\u001b[39;00m_need_reload\u001b[38;5;132;01m}\u001b[39;00m\u001b[38;5;124m\"\u001b[39m\n\u001b[1;32m     91\u001b[0m         )\n\u001b[1;32m     92\u001b[0m \u001b[38;5;28;01mexcept\u001b[39;00m \u001b[38;5;167;01mImportError\u001b[39;00m:\n\u001b[1;32m     93\u001b[0m     \u001b[38;5;66;03m# It is useless to try to compile if there isn't any\u001b[39;00m\n\u001b[1;32m     94\u001b[0m     \u001b[38;5;66;03m# compiler!  But we still want to try to load it, in case\u001b[39;00m\n\u001b[1;32m     95\u001b[0m     \u001b[38;5;66;03m# the cache was copied from another computer.\u001b[39;00m\n",
            "\u001b[0;31mImportError\u001b[0m: Version check of the existing lazylinker compiled file. Looking for version 0.212, but found None. Extra debug information: force_compile=False, _need_reload=True",
            "\nDuring handling of the above exception, another exception occurred:\n",
            "\u001b[0;31mCompileError\u001b[0m                              Traceback (most recent call last)",
            "Cell \u001b[0;32mIn[10], line 4\u001b[0m\n\u001b[1;32m      2\u001b[0m     probability \u001b[38;5;241m=\u001b[39m pm\u001b[38;5;241m.\u001b[39mBeta(\u001b[38;5;124m\"\u001b[39m\u001b[38;5;124mprobability\u001b[39m\u001b[38;5;124m\"\u001b[39m, alpha\u001b[38;5;241m=\u001b[39m\u001b[38;5;241m1\u001b[39m, beta\u001b[38;5;241m=\u001b[39m\u001b[38;5;241m1\u001b[39m)\n\u001b[1;32m      3\u001b[0m     coin \u001b[38;5;241m=\u001b[39m pm\u001b[38;5;241m.\u001b[39mBernoulli(\u001b[38;5;124m\"\u001b[39m\u001b[38;5;124mcoin\u001b[39m\u001b[38;5;124m\"\u001b[39m, p\u001b[38;5;241m=\u001b[39mprobability, observed\u001b[38;5;241m=\u001b[39msamples)\n\u001b[0;32m----> 4\u001b[0m     trace \u001b[38;5;241m=\u001b[39m \u001b[43mpm\u001b[49m\u001b[38;5;241;43m.\u001b[39;49m\u001b[43msample\u001b[49m\u001b[43m(\u001b[49m\u001b[38;5;241;43m1000\u001b[39;49m\u001b[43m,\u001b[49m\u001b[43m \u001b[49m\u001b[43mreturn_inferencedata\u001b[49m\u001b[38;5;241;43m=\u001b[39;49m\u001b[38;5;28;43;01mTrue\u001b[39;49;00m\u001b[43m)\u001b[49m\n\u001b[1;32m      6\u001b[0m az\u001b[38;5;241m.\u001b[39mplot_trace(trace)\n",
            "File \u001b[0;32m/usr/local/python/3.12.1/lib/python3.12/site-packages/pymc/sampling/mcmc.py:718\u001b[0m, in \u001b[0;36msample\u001b[0;34m(draws, tune, chains, cores, random_seed, progressbar, progressbar_theme, step, var_names, nuts_sampler, initvals, init, jitter_max_retries, n_init, trace, discard_tuned_samples, compute_convergence_checks, keep_warning_stat, return_inferencedata, idata_kwargs, nuts_sampler_kwargs, callback, mp_ctx, blas_cores, model, **kwargs)\u001b[0m\n\u001b[1;32m    715\u001b[0m         auto_nuts_init \u001b[38;5;241m=\u001b[39m \u001b[38;5;28;01mFalse\u001b[39;00m\n\u001b[1;32m    717\u001b[0m initial_points \u001b[38;5;241m=\u001b[39m \u001b[38;5;28;01mNone\u001b[39;00m\n\u001b[0;32m--> 718\u001b[0m step \u001b[38;5;241m=\u001b[39m \u001b[43massign_step_methods\u001b[49m\u001b[43m(\u001b[49m\u001b[43mmodel\u001b[49m\u001b[43m,\u001b[49m\u001b[43m \u001b[49m\u001b[43mstep\u001b[49m\u001b[43m,\u001b[49m\u001b[43m \u001b[49m\u001b[43mmethods\u001b[49m\u001b[38;5;241;43m=\u001b[39;49m\u001b[43mpm\u001b[49m\u001b[38;5;241;43m.\u001b[39;49m\u001b[43mSTEP_METHODS\u001b[49m\u001b[43m,\u001b[49m\u001b[43m \u001b[49m\u001b[43mstep_kwargs\u001b[49m\u001b[38;5;241;43m=\u001b[39;49m\u001b[43mkwargs\u001b[49m\u001b[43m)\u001b[49m\n\u001b[1;32m    720\u001b[0m \u001b[38;5;28;01mif\u001b[39;00m nuts_sampler \u001b[38;5;241m!=\u001b[39m \u001b[38;5;124m\"\u001b[39m\u001b[38;5;124mpymc\u001b[39m\u001b[38;5;124m\"\u001b[39m:\n\u001b[1;32m    721\u001b[0m     \u001b[38;5;28;01mif\u001b[39;00m \u001b[38;5;129;01mnot\u001b[39;00m \u001b[38;5;28misinstance\u001b[39m(step, NUTS):\n",
            "File \u001b[0;32m/usr/local/python/3.12.1/lib/python3.12/site-packages/pymc/sampling/mcmc.py:237\u001b[0m, in \u001b[0;36massign_step_methods\u001b[0;34m(model, step, methods, step_kwargs)\u001b[0m\n\u001b[1;32m    229\u001b[0m         selected \u001b[38;5;241m=\u001b[39m \u001b[38;5;28mmax\u001b[39m(\n\u001b[1;32m    230\u001b[0m             methods_list,\n\u001b[1;32m    231\u001b[0m             key\u001b[38;5;241m=\u001b[39m\u001b[38;5;28;01mlambda\u001b[39;00m method, var\u001b[38;5;241m=\u001b[39mrv_var, has_gradient\u001b[38;5;241m=\u001b[39mhas_gradient: method\u001b[38;5;241m.\u001b[39m_competence(  \u001b[38;5;66;03m# type: ignore\u001b[39;00m\n\u001b[1;32m    232\u001b[0m                 var, has_gradient\n\u001b[1;32m    233\u001b[0m             ),\n\u001b[1;32m    234\u001b[0m         )\n\u001b[1;32m    235\u001b[0m         selected_steps\u001b[38;5;241m.\u001b[39msetdefault(selected, [])\u001b[38;5;241m.\u001b[39mappend(var)\n\u001b[0;32m--> 237\u001b[0m \u001b[38;5;28;01mreturn\u001b[39;00m \u001b[43minstantiate_steppers\u001b[49m\u001b[43m(\u001b[49m\u001b[43mmodel\u001b[49m\u001b[43m,\u001b[49m\u001b[43m \u001b[49m\u001b[43msteps\u001b[49m\u001b[43m,\u001b[49m\u001b[43m \u001b[49m\u001b[43mselected_steps\u001b[49m\u001b[43m,\u001b[49m\u001b[43m \u001b[49m\u001b[43mstep_kwargs\u001b[49m\u001b[43m)\u001b[49m\n",
            "File \u001b[0;32m/usr/local/python/3.12.1/lib/python3.12/site-packages/pymc/sampling/mcmc.py:138\u001b[0m, in \u001b[0;36minstantiate_steppers\u001b[0;34m(model, steps, selected_steps, step_kwargs)\u001b[0m\n\u001b[1;32m    136\u001b[0m         args \u001b[38;5;241m=\u001b[39m step_kwargs\u001b[38;5;241m.\u001b[39mget(name, {})\n\u001b[1;32m    137\u001b[0m         used_keys\u001b[38;5;241m.\u001b[39madd(name)\n\u001b[0;32m--> 138\u001b[0m         step \u001b[38;5;241m=\u001b[39m \u001b[43mstep_class\u001b[49m\u001b[43m(\u001b[49m\u001b[38;5;28;43mvars\u001b[39;49m\u001b[38;5;241;43m=\u001b[39;49m\u001b[38;5;28;43mvars\u001b[39;49m\u001b[43m,\u001b[49m\u001b[43m \u001b[49m\u001b[43mmodel\u001b[49m\u001b[38;5;241;43m=\u001b[39;49m\u001b[43mmodel\u001b[49m\u001b[43m,\u001b[49m\u001b[43m \u001b[49m\u001b[38;5;241;43m*\u001b[39;49m\u001b[38;5;241;43m*\u001b[39;49m\u001b[43margs\u001b[49m\u001b[43m)\u001b[49m\n\u001b[1;32m    139\u001b[0m         steps\u001b[38;5;241m.\u001b[39mappend(step)\n\u001b[1;32m    141\u001b[0m unused_args \u001b[38;5;241m=\u001b[39m \u001b[38;5;28mset\u001b[39m(step_kwargs)\u001b[38;5;241m.\u001b[39mdifference(used_keys)\n",
            "File \u001b[0;32m/usr/local/python/3.12.1/lib/python3.12/site-packages/pymc/step_methods/hmc/nuts.py:180\u001b[0m, in \u001b[0;36mNUTS.__init__\u001b[0;34m(self, vars, max_treedepth, early_max_treedepth, **kwargs)\u001b[0m\n\u001b[1;32m    122\u001b[0m \u001b[38;5;28;01mdef\u001b[39;00m \u001b[38;5;21m__init__\u001b[39m(\u001b[38;5;28mself\u001b[39m, \u001b[38;5;28mvars\u001b[39m\u001b[38;5;241m=\u001b[39m\u001b[38;5;28;01mNone\u001b[39;00m, max_treedepth\u001b[38;5;241m=\u001b[39m\u001b[38;5;241m10\u001b[39m, early_max_treedepth\u001b[38;5;241m=\u001b[39m\u001b[38;5;241m8\u001b[39m, \u001b[38;5;241m*\u001b[39m\u001b[38;5;241m*\u001b[39mkwargs):\n\u001b[1;32m    123\u001b[0m \u001b[38;5;250m    \u001b[39m\u001b[38;5;124mr\u001b[39m\u001b[38;5;124;03m\"\"\"Set up the No-U-Turn sampler.\u001b[39;00m\n\u001b[1;32m    124\u001b[0m \n\u001b[1;32m    125\u001b[0m \u001b[38;5;124;03m    Parameters\u001b[39;00m\n\u001b[0;32m   (...)\u001b[0m\n\u001b[1;32m    178\u001b[0m \u001b[38;5;124;03m    `pm.sample` to the desired number of tuning steps.\u001b[39;00m\n\u001b[1;32m    179\u001b[0m \u001b[38;5;124;03m    \"\"\"\u001b[39;00m\n\u001b[0;32m--> 180\u001b[0m     \u001b[38;5;28;43msuper\u001b[39;49m\u001b[43m(\u001b[49m\u001b[43m)\u001b[49m\u001b[38;5;241;43m.\u001b[39;49m\u001b[38;5;21;43m__init__\u001b[39;49m\u001b[43m(\u001b[49m\u001b[38;5;28;43mvars\u001b[39;49m\u001b[43m,\u001b[49m\u001b[43m \u001b[49m\u001b[38;5;241;43m*\u001b[39;49m\u001b[38;5;241;43m*\u001b[39;49m\u001b[43mkwargs\u001b[49m\u001b[43m)\u001b[49m\n\u001b[1;32m    182\u001b[0m     \u001b[38;5;28mself\u001b[39m\u001b[38;5;241m.\u001b[39mmax_treedepth \u001b[38;5;241m=\u001b[39m max_treedepth\n\u001b[1;32m    183\u001b[0m     \u001b[38;5;28mself\u001b[39m\u001b[38;5;241m.\u001b[39mearly_max_treedepth \u001b[38;5;241m=\u001b[39m early_max_treedepth\n",
            "File \u001b[0;32m/usr/local/python/3.12.1/lib/python3.12/site-packages/pymc/step_methods/hmc/base_hmc.py:109\u001b[0m, in \u001b[0;36mBaseHMC.__init__\u001b[0;34m(self, vars, scaling, step_scale, is_cov, model, blocked, potential, dtype, Emax, target_accept, gamma, k, t0, adapt_step_size, step_rand, **pytensor_kwargs)\u001b[0m\n\u001b[1;32m    107\u001b[0m \u001b[38;5;28;01melse\u001b[39;00m:\n\u001b[1;32m    108\u001b[0m     \u001b[38;5;28mvars\u001b[39m \u001b[38;5;241m=\u001b[39m get_value_vars_from_user_vars(\u001b[38;5;28mvars\u001b[39m, \u001b[38;5;28mself\u001b[39m\u001b[38;5;241m.\u001b[39m_model)\n\u001b[0;32m--> 109\u001b[0m \u001b[38;5;28;43msuper\u001b[39;49m\u001b[43m(\u001b[49m\u001b[43m)\u001b[49m\u001b[38;5;241;43m.\u001b[39;49m\u001b[38;5;21;43m__init__\u001b[39;49m\u001b[43m(\u001b[49m\u001b[38;5;28;43mvars\u001b[39;49m\u001b[43m,\u001b[49m\u001b[43m \u001b[49m\u001b[43mblocked\u001b[49m\u001b[38;5;241;43m=\u001b[39;49m\u001b[43mblocked\u001b[49m\u001b[43m,\u001b[49m\u001b[43m \u001b[49m\u001b[43mmodel\u001b[49m\u001b[38;5;241;43m=\u001b[39;49m\u001b[38;5;28;43mself\u001b[39;49m\u001b[38;5;241;43m.\u001b[39;49m\u001b[43m_model\u001b[49m\u001b[43m,\u001b[49m\u001b[43m \u001b[49m\u001b[43mdtype\u001b[49m\u001b[38;5;241;43m=\u001b[39;49m\u001b[43mdtype\u001b[49m\u001b[43m,\u001b[49m\u001b[43m \u001b[49m\u001b[38;5;241;43m*\u001b[39;49m\u001b[38;5;241;43m*\u001b[39;49m\u001b[43mpytensor_kwargs\u001b[49m\u001b[43m)\u001b[49m\n\u001b[1;32m    111\u001b[0m \u001b[38;5;28mself\u001b[39m\u001b[38;5;241m.\u001b[39madapt_step_size \u001b[38;5;241m=\u001b[39m adapt_step_size\n\u001b[1;32m    112\u001b[0m \u001b[38;5;28mself\u001b[39m\u001b[38;5;241m.\u001b[39mEmax \u001b[38;5;241m=\u001b[39m Emax\n",
            "File \u001b[0;32m/usr/local/python/3.12.1/lib/python3.12/site-packages/pymc/step_methods/arraystep.py:163\u001b[0m, in \u001b[0;36mGradientSharedStep.__init__\u001b[0;34m(self, vars, model, blocked, dtype, logp_dlogp_func, **pytensor_kwargs)\u001b[0m\n\u001b[1;32m    160\u001b[0m model \u001b[38;5;241m=\u001b[39m modelcontext(model)\n\u001b[1;32m    162\u001b[0m \u001b[38;5;28;01mif\u001b[39;00m logp_dlogp_func \u001b[38;5;129;01mis\u001b[39;00m \u001b[38;5;28;01mNone\u001b[39;00m:\n\u001b[0;32m--> 163\u001b[0m     func \u001b[38;5;241m=\u001b[39m \u001b[43mmodel\u001b[49m\u001b[38;5;241;43m.\u001b[39;49m\u001b[43mlogp_dlogp_function\u001b[49m\u001b[43m(\u001b[49m\u001b[38;5;28;43mvars\u001b[39;49m\u001b[43m,\u001b[49m\u001b[43m \u001b[49m\u001b[43mdtype\u001b[49m\u001b[38;5;241;43m=\u001b[39;49m\u001b[43mdtype\u001b[49m\u001b[43m,\u001b[49m\u001b[43m \u001b[49m\u001b[38;5;241;43m*\u001b[39;49m\u001b[38;5;241;43m*\u001b[39;49m\u001b[43mpytensor_kwargs\u001b[49m\u001b[43m)\u001b[49m\n\u001b[1;32m    164\u001b[0m \u001b[38;5;28;01melse\u001b[39;00m:\n\u001b[1;32m    165\u001b[0m     func \u001b[38;5;241m=\u001b[39m logp_dlogp_func\n",
            "File \u001b[0;32m/usr/local/python/3.12.1/lib/python3.12/site-packages/pymc/model/core.py:624\u001b[0m, in \u001b[0;36mModel.logp_dlogp_function\u001b[0;34m(self, grad_vars, tempered, **kwargs)\u001b[0m\n\u001b[1;32m    621\u001b[0m     costs \u001b[38;5;241m=\u001b[39m [\u001b[38;5;28mself\u001b[39m\u001b[38;5;241m.\u001b[39mlogp()]\n\u001b[1;32m    623\u001b[0m input_vars \u001b[38;5;241m=\u001b[39m {i \u001b[38;5;28;01mfor\u001b[39;00m i \u001b[38;5;129;01min\u001b[39;00m graph_inputs(costs) \u001b[38;5;28;01mif\u001b[39;00m \u001b[38;5;129;01mnot\u001b[39;00m \u001b[38;5;28misinstance\u001b[39m(i, Constant)}\n\u001b[0;32m--> 624\u001b[0m ip \u001b[38;5;241m=\u001b[39m \u001b[38;5;28;43mself\u001b[39;49m\u001b[38;5;241;43m.\u001b[39;49m\u001b[43minitial_point\u001b[49m\u001b[43m(\u001b[49m\u001b[38;5;241;43m0\u001b[39;49m\u001b[43m)\u001b[49m\n\u001b[1;32m    625\u001b[0m extra_vars_and_values \u001b[38;5;241m=\u001b[39m {\n\u001b[1;32m    626\u001b[0m     var: ip[var\u001b[38;5;241m.\u001b[39mname]\n\u001b[1;32m    627\u001b[0m     \u001b[38;5;28;01mfor\u001b[39;00m var \u001b[38;5;129;01min\u001b[39;00m \u001b[38;5;28mself\u001b[39m\u001b[38;5;241m.\u001b[39mvalue_vars\n\u001b[1;32m    628\u001b[0m     \u001b[38;5;28;01mif\u001b[39;00m var \u001b[38;5;129;01min\u001b[39;00m input_vars \u001b[38;5;129;01mand\u001b[39;00m var \u001b[38;5;129;01mnot\u001b[39;00m \u001b[38;5;129;01min\u001b[39;00m grad_vars\n\u001b[1;32m    629\u001b[0m }\n\u001b[1;32m    630\u001b[0m \u001b[38;5;28;01mreturn\u001b[39;00m ValueGradFunction(costs, grad_vars, extra_vars_and_values, \u001b[38;5;241m*\u001b[39m\u001b[38;5;241m*\u001b[39mkwargs)\n",
            "File \u001b[0;32m/usr/local/python/3.12.1/lib/python3.12/site-packages/pymc/model/core.py:1098\u001b[0m, in \u001b[0;36mModel.initial_point\u001b[0;34m(self, random_seed)\u001b[0m\n\u001b[1;32m   1085\u001b[0m \u001b[38;5;28;01mdef\u001b[39;00m \u001b[38;5;21minitial_point\u001b[39m(\u001b[38;5;28mself\u001b[39m, random_seed: SeedSequenceSeed \u001b[38;5;241m=\u001b[39m \u001b[38;5;28;01mNone\u001b[39;00m) \u001b[38;5;241m-\u001b[39m\u001b[38;5;241m>\u001b[39m \u001b[38;5;28mdict\u001b[39m[\u001b[38;5;28mstr\u001b[39m, np\u001b[38;5;241m.\u001b[39mndarray]:\n\u001b[1;32m   1086\u001b[0m \u001b[38;5;250m    \u001b[39m\u001b[38;5;124;03m\"\"\"Computes the initial point of the model.\u001b[39;00m\n\u001b[1;32m   1087\u001b[0m \n\u001b[1;32m   1088\u001b[0m \u001b[38;5;124;03m    Parameters\u001b[39;00m\n\u001b[0;32m   (...)\u001b[0m\n\u001b[1;32m   1096\u001b[0m \u001b[38;5;124;03m        Maps names of transformed variables to numeric initial values in the transformed space.\u001b[39;00m\n\u001b[1;32m   1097\u001b[0m \u001b[38;5;124;03m    \"\"\"\u001b[39;00m\n\u001b[0;32m-> 1098\u001b[0m     fn \u001b[38;5;241m=\u001b[39m \u001b[43mmake_initial_point_fn\u001b[49m\u001b[43m(\u001b[49m\u001b[43mmodel\u001b[49m\u001b[38;5;241;43m=\u001b[39;49m\u001b[38;5;28;43mself\u001b[39;49m\u001b[43m,\u001b[49m\u001b[43m \u001b[49m\u001b[43mreturn_transformed\u001b[49m\u001b[38;5;241;43m=\u001b[39;49m\u001b[38;5;28;43;01mTrue\u001b[39;49;00m\u001b[43m)\u001b[49m\n\u001b[1;32m   1099\u001b[0m     \u001b[38;5;28;01mreturn\u001b[39;00m Point(fn(random_seed), model\u001b[38;5;241m=\u001b[39m\u001b[38;5;28mself\u001b[39m)\n",
            "File \u001b[0;32m/usr/local/python/3.12.1/lib/python3.12/site-packages/pymc/initial_point.py:152\u001b[0m, in \u001b[0;36mmake_initial_point_fn\u001b[0;34m(model, overrides, jitter_rvs, default_strategy, return_transformed)\u001b[0m\n\u001b[1;32m    149\u001b[0m \u001b[38;5;66;03m# Replace original rng shared variables so that we don't mess with them\u001b[39;00m\n\u001b[1;32m    150\u001b[0m \u001b[38;5;66;03m# when calling the final seeded function\u001b[39;00m\n\u001b[1;32m    151\u001b[0m initial_values \u001b[38;5;241m=\u001b[39m replace_rng_nodes(initial_values)\n\u001b[0;32m--> 152\u001b[0m func \u001b[38;5;241m=\u001b[39m \u001b[43mcompile_pymc\u001b[49m\u001b[43m(\u001b[49m\u001b[43minputs\u001b[49m\u001b[38;5;241;43m=\u001b[39;49m\u001b[43m[\u001b[49m\u001b[43m]\u001b[49m\u001b[43m,\u001b[49m\u001b[43m \u001b[49m\u001b[43moutputs\u001b[49m\u001b[38;5;241;43m=\u001b[39;49m\u001b[43minitial_values\u001b[49m\u001b[43m,\u001b[49m\u001b[43m \u001b[49m\u001b[43mmode\u001b[49m\u001b[38;5;241;43m=\u001b[39;49m\u001b[43mpytensor\u001b[49m\u001b[38;5;241;43m.\u001b[39;49m\u001b[43mcompile\u001b[49m\u001b[38;5;241;43m.\u001b[39;49m\u001b[43mmode\u001b[49m\u001b[38;5;241;43m.\u001b[39;49m\u001b[43mFAST_COMPILE\u001b[49m\u001b[43m)\u001b[49m\n\u001b[1;32m    154\u001b[0m varnames \u001b[38;5;241m=\u001b[39m []\n\u001b[1;32m    155\u001b[0m \u001b[38;5;28;01mfor\u001b[39;00m var \u001b[38;5;129;01min\u001b[39;00m model\u001b[38;5;241m.\u001b[39mfree_RVs:\n",
            "File \u001b[0;32m/usr/local/python/3.12.1/lib/python3.12/site-packages/pymc/pytensorf.py:1056\u001b[0m, in \u001b[0;36mcompile_pymc\u001b[0;34m(inputs, outputs, random_seed, mode, **kwargs)\u001b[0m\n\u001b[1;32m   1054\u001b[0m opt_qry \u001b[38;5;241m=\u001b[39m mode\u001b[38;5;241m.\u001b[39mprovided_optimizer\u001b[38;5;241m.\u001b[39mincluding(\u001b[38;5;124m\"\u001b[39m\u001b[38;5;124mrandom_make_inplace\u001b[39m\u001b[38;5;124m\"\u001b[39m, check_parameter_opt)\n\u001b[1;32m   1055\u001b[0m mode \u001b[38;5;241m=\u001b[39m Mode(linker\u001b[38;5;241m=\u001b[39mmode\u001b[38;5;241m.\u001b[39mlinker, optimizer\u001b[38;5;241m=\u001b[39mopt_qry)\n\u001b[0;32m-> 1056\u001b[0m pytensor_function \u001b[38;5;241m=\u001b[39m \u001b[43mpytensor\u001b[49m\u001b[38;5;241;43m.\u001b[39;49m\u001b[43mfunction\u001b[49m\u001b[43m(\u001b[49m\n\u001b[1;32m   1057\u001b[0m \u001b[43m    \u001b[49m\u001b[43minputs\u001b[49m\u001b[43m,\u001b[49m\n\u001b[1;32m   1058\u001b[0m \u001b[43m    \u001b[49m\u001b[43moutputs\u001b[49m\u001b[43m,\u001b[49m\n\u001b[1;32m   1059\u001b[0m \u001b[43m    \u001b[49m\u001b[43mupdates\u001b[49m\u001b[38;5;241;43m=\u001b[39;49m\u001b[43m{\u001b[49m\u001b[38;5;241;43m*\u001b[39;49m\u001b[38;5;241;43m*\u001b[39;49m\u001b[43mrng_updates\u001b[49m\u001b[43m,\u001b[49m\u001b[43m \u001b[49m\u001b[38;5;241;43m*\u001b[39;49m\u001b[38;5;241;43m*\u001b[39;49m\u001b[43mkwargs\u001b[49m\u001b[38;5;241;43m.\u001b[39;49m\u001b[43mpop\u001b[49m\u001b[43m(\u001b[49m\u001b[38;5;124;43m\"\u001b[39;49m\u001b[38;5;124;43mupdates\u001b[39;49m\u001b[38;5;124;43m\"\u001b[39;49m\u001b[43m,\u001b[49m\u001b[43m \u001b[49m\u001b[43m{\u001b[49m\u001b[43m}\u001b[49m\u001b[43m)\u001b[49m\u001b[43m}\u001b[49m\u001b[43m,\u001b[49m\n\u001b[1;32m   1060\u001b[0m \u001b[43m    \u001b[49m\u001b[43mmode\u001b[49m\u001b[38;5;241;43m=\u001b[39;49m\u001b[43mmode\u001b[49m\u001b[43m,\u001b[49m\n\u001b[1;32m   1061\u001b[0m \u001b[43m    \u001b[49m\u001b[38;5;241;43m*\u001b[39;49m\u001b[38;5;241;43m*\u001b[39;49m\u001b[43mkwargs\u001b[49m\u001b[43m,\u001b[49m\n\u001b[1;32m   1062\u001b[0m \u001b[43m\u001b[49m\u001b[43m)\u001b[49m\n\u001b[1;32m   1063\u001b[0m \u001b[38;5;28;01mreturn\u001b[39;00m pytensor_function\n",
            "File \u001b[0;32m/usr/local/python/3.12.1/lib/python3.12/site-packages/pytensor/compile/function/__init__.py:318\u001b[0m, in \u001b[0;36mfunction\u001b[0;34m(inputs, outputs, mode, updates, givens, no_default_updates, accept_inplace, name, rebuild_strict, allow_input_downcast, profile, on_unused_input)\u001b[0m\n\u001b[1;32m    312\u001b[0m     fn \u001b[38;5;241m=\u001b[39m orig_function(\n\u001b[1;32m    313\u001b[0m         inputs, outputs, mode\u001b[38;5;241m=\u001b[39mmode, accept_inplace\u001b[38;5;241m=\u001b[39maccept_inplace, name\u001b[38;5;241m=\u001b[39mname\n\u001b[1;32m    314\u001b[0m     )\n\u001b[1;32m    315\u001b[0m \u001b[38;5;28;01melse\u001b[39;00m:\n\u001b[1;32m    316\u001b[0m     \u001b[38;5;66;03m# note: pfunc will also call orig_function -- orig_function is\u001b[39;00m\n\u001b[1;32m    317\u001b[0m     \u001b[38;5;66;03m#      a choke point that all compilation must pass through\u001b[39;00m\n\u001b[0;32m--> 318\u001b[0m     fn \u001b[38;5;241m=\u001b[39m \u001b[43mpfunc\u001b[49m\u001b[43m(\u001b[49m\n\u001b[1;32m    319\u001b[0m \u001b[43m        \u001b[49m\u001b[43mparams\u001b[49m\u001b[38;5;241;43m=\u001b[39;49m\u001b[43minputs\u001b[49m\u001b[43m,\u001b[49m\n\u001b[1;32m    320\u001b[0m \u001b[43m        \u001b[49m\u001b[43moutputs\u001b[49m\u001b[38;5;241;43m=\u001b[39;49m\u001b[43moutputs\u001b[49m\u001b[43m,\u001b[49m\n\u001b[1;32m    321\u001b[0m \u001b[43m        \u001b[49m\u001b[43mmode\u001b[49m\u001b[38;5;241;43m=\u001b[39;49m\u001b[43mmode\u001b[49m\u001b[43m,\u001b[49m\n\u001b[1;32m    322\u001b[0m \u001b[43m        \u001b[49m\u001b[43mupdates\u001b[49m\u001b[38;5;241;43m=\u001b[39;49m\u001b[43mupdates\u001b[49m\u001b[43m,\u001b[49m\n\u001b[1;32m    323\u001b[0m \u001b[43m        \u001b[49m\u001b[43mgivens\u001b[49m\u001b[38;5;241;43m=\u001b[39;49m\u001b[43mgivens\u001b[49m\u001b[43m,\u001b[49m\n\u001b[1;32m    324\u001b[0m \u001b[43m        \u001b[49m\u001b[43mno_default_updates\u001b[49m\u001b[38;5;241;43m=\u001b[39;49m\u001b[43mno_default_updates\u001b[49m\u001b[43m,\u001b[49m\n\u001b[1;32m    325\u001b[0m \u001b[43m        \u001b[49m\u001b[43maccept_inplace\u001b[49m\u001b[38;5;241;43m=\u001b[39;49m\u001b[43maccept_inplace\u001b[49m\u001b[43m,\u001b[49m\n\u001b[1;32m    326\u001b[0m \u001b[43m        \u001b[49m\u001b[43mname\u001b[49m\u001b[38;5;241;43m=\u001b[39;49m\u001b[43mname\u001b[49m\u001b[43m,\u001b[49m\n\u001b[1;32m    327\u001b[0m \u001b[43m        \u001b[49m\u001b[43mrebuild_strict\u001b[49m\u001b[38;5;241;43m=\u001b[39;49m\u001b[43mrebuild_strict\u001b[49m\u001b[43m,\u001b[49m\n\u001b[1;32m    328\u001b[0m \u001b[43m        \u001b[49m\u001b[43mallow_input_downcast\u001b[49m\u001b[38;5;241;43m=\u001b[39;49m\u001b[43mallow_input_downcast\u001b[49m\u001b[43m,\u001b[49m\n\u001b[1;32m    329\u001b[0m \u001b[43m        \u001b[49m\u001b[43mon_unused_input\u001b[49m\u001b[38;5;241;43m=\u001b[39;49m\u001b[43mon_unused_input\u001b[49m\u001b[43m,\u001b[49m\n\u001b[1;32m    330\u001b[0m \u001b[43m        \u001b[49m\u001b[43mprofile\u001b[49m\u001b[38;5;241;43m=\u001b[39;49m\u001b[43mprofile\u001b[49m\u001b[43m,\u001b[49m\n\u001b[1;32m    331\u001b[0m \u001b[43m        \u001b[49m\u001b[43moutput_keys\u001b[49m\u001b[38;5;241;43m=\u001b[39;49m\u001b[43moutput_keys\u001b[49m\u001b[43m,\u001b[49m\n\u001b[1;32m    332\u001b[0m \u001b[43m    \u001b[49m\u001b[43m)\u001b[49m\n\u001b[1;32m    333\u001b[0m \u001b[38;5;28;01mreturn\u001b[39;00m fn\n",
            "File \u001b[0;32m/usr/local/python/3.12.1/lib/python3.12/site-packages/pytensor/compile/function/pfunc.py:465\u001b[0m, in \u001b[0;36mpfunc\u001b[0;34m(params, outputs, mode, updates, givens, no_default_updates, accept_inplace, name, rebuild_strict, allow_input_downcast, profile, on_unused_input, output_keys, fgraph)\u001b[0m\n\u001b[1;32m    451\u001b[0m     profile \u001b[38;5;241m=\u001b[39m ProfileStats(message\u001b[38;5;241m=\u001b[39mprofile)\n\u001b[1;32m    453\u001b[0m inputs, cloned_outputs \u001b[38;5;241m=\u001b[39m construct_pfunc_ins_and_outs(\n\u001b[1;32m    454\u001b[0m     params,\n\u001b[1;32m    455\u001b[0m     outputs,\n\u001b[0;32m   (...)\u001b[0m\n\u001b[1;32m    462\u001b[0m     fgraph\u001b[38;5;241m=\u001b[39mfgraph,\n\u001b[1;32m    463\u001b[0m )\n\u001b[0;32m--> 465\u001b[0m \u001b[38;5;28;01mreturn\u001b[39;00m \u001b[43morig_function\u001b[49m\u001b[43m(\u001b[49m\n\u001b[1;32m    466\u001b[0m \u001b[43m    \u001b[49m\u001b[43minputs\u001b[49m\u001b[43m,\u001b[49m\n\u001b[1;32m    467\u001b[0m \u001b[43m    \u001b[49m\u001b[43mcloned_outputs\u001b[49m\u001b[43m,\u001b[49m\n\u001b[1;32m    468\u001b[0m \u001b[43m    \u001b[49m\u001b[43mmode\u001b[49m\u001b[43m,\u001b[49m\n\u001b[1;32m    469\u001b[0m \u001b[43m    \u001b[49m\u001b[43maccept_inplace\u001b[49m\u001b[38;5;241;43m=\u001b[39;49m\u001b[43maccept_inplace\u001b[49m\u001b[43m,\u001b[49m\n\u001b[1;32m    470\u001b[0m \u001b[43m    \u001b[49m\u001b[43mname\u001b[49m\u001b[38;5;241;43m=\u001b[39;49m\u001b[43mname\u001b[49m\u001b[43m,\u001b[49m\n\u001b[1;32m    471\u001b[0m \u001b[43m    \u001b[49m\u001b[43mprofile\u001b[49m\u001b[38;5;241;43m=\u001b[39;49m\u001b[43mprofile\u001b[49m\u001b[43m,\u001b[49m\n\u001b[1;32m    472\u001b[0m \u001b[43m    \u001b[49m\u001b[43mon_unused_input\u001b[49m\u001b[38;5;241;43m=\u001b[39;49m\u001b[43mon_unused_input\u001b[49m\u001b[43m,\u001b[49m\n\u001b[1;32m    473\u001b[0m \u001b[43m    \u001b[49m\u001b[43moutput_keys\u001b[49m\u001b[38;5;241;43m=\u001b[39;49m\u001b[43moutput_keys\u001b[49m\u001b[43m,\u001b[49m\n\u001b[1;32m    474\u001b[0m \u001b[43m    \u001b[49m\u001b[43mfgraph\u001b[49m\u001b[38;5;241;43m=\u001b[39;49m\u001b[43mfgraph\u001b[49m\u001b[43m,\u001b[49m\n\u001b[1;32m    475\u001b[0m \u001b[43m\u001b[49m\u001b[43m)\u001b[49m\n",
            "File \u001b[0;32m/usr/local/python/3.12.1/lib/python3.12/site-packages/pytensor/compile/function/types.py:1762\u001b[0m, in \u001b[0;36morig_function\u001b[0;34m(inputs, outputs, mode, accept_inplace, name, profile, on_unused_input, output_keys, fgraph)\u001b[0m\n\u001b[1;32m   1750\u001b[0m     m \u001b[38;5;241m=\u001b[39m Maker(\n\u001b[1;32m   1751\u001b[0m         inputs,\n\u001b[1;32m   1752\u001b[0m         outputs,\n\u001b[0;32m   (...)\u001b[0m\n\u001b[1;32m   1759\u001b[0m         fgraph\u001b[38;5;241m=\u001b[39mfgraph,\n\u001b[1;32m   1760\u001b[0m     )\n\u001b[1;32m   1761\u001b[0m     \u001b[38;5;28;01mwith\u001b[39;00m config\u001b[38;5;241m.\u001b[39mchange_flags(compute_test_value\u001b[38;5;241m=\u001b[39m\u001b[38;5;124m\"\u001b[39m\u001b[38;5;124moff\u001b[39m\u001b[38;5;124m\"\u001b[39m):\n\u001b[0;32m-> 1762\u001b[0m         fn \u001b[38;5;241m=\u001b[39m \u001b[43mm\u001b[49m\u001b[38;5;241;43m.\u001b[39;49m\u001b[43mcreate\u001b[49m\u001b[43m(\u001b[49m\u001b[43mdefaults\u001b[49m\u001b[43m)\u001b[49m\n\u001b[1;32m   1763\u001b[0m \u001b[38;5;28;01mfinally\u001b[39;00m:\n\u001b[1;32m   1764\u001b[0m     \u001b[38;5;28;01mif\u001b[39;00m profile \u001b[38;5;129;01mand\u001b[39;00m fn:\n",
            "File \u001b[0;32m/usr/local/python/3.12.1/lib/python3.12/site-packages/pytensor/compile/function/types.py:1654\u001b[0m, in \u001b[0;36mFunctionMaker.create\u001b[0;34m(self, input_storage, storage_map)\u001b[0m\n\u001b[1;32m   1651\u001b[0m start_import_time \u001b[38;5;241m=\u001b[39m pytensor\u001b[38;5;241m.\u001b[39mlink\u001b[38;5;241m.\u001b[39mc\u001b[38;5;241m.\u001b[39mcmodule\u001b[38;5;241m.\u001b[39mimport_time\n\u001b[1;32m   1653\u001b[0m \u001b[38;5;28;01mwith\u001b[39;00m config\u001b[38;5;241m.\u001b[39mchange_flags(traceback__limit\u001b[38;5;241m=\u001b[39mconfig\u001b[38;5;241m.\u001b[39mtraceback__compile_limit):\n\u001b[0;32m-> 1654\u001b[0m     _fn, _i, _o \u001b[38;5;241m=\u001b[39m \u001b[38;5;28;43mself\u001b[39;49m\u001b[38;5;241;43m.\u001b[39;49m\u001b[43mlinker\u001b[49m\u001b[38;5;241;43m.\u001b[39;49m\u001b[43mmake_thunk\u001b[49m\u001b[43m(\u001b[49m\n\u001b[1;32m   1655\u001b[0m \u001b[43m        \u001b[49m\u001b[43minput_storage\u001b[49m\u001b[38;5;241;43m=\u001b[39;49m\u001b[43minput_storage_lists\u001b[49m\u001b[43m,\u001b[49m\u001b[43m \u001b[49m\u001b[43mstorage_map\u001b[49m\u001b[38;5;241;43m=\u001b[39;49m\u001b[43mstorage_map\u001b[49m\n\u001b[1;32m   1656\u001b[0m \u001b[43m    \u001b[49m\u001b[43m)\u001b[49m\n\u001b[1;32m   1658\u001b[0m end_linker \u001b[38;5;241m=\u001b[39m time\u001b[38;5;241m.\u001b[39mperf_counter()\n\u001b[1;32m   1660\u001b[0m linker_time \u001b[38;5;241m=\u001b[39m end_linker \u001b[38;5;241m-\u001b[39m start_linker\n",
            "File \u001b[0;32m/usr/local/python/3.12.1/lib/python3.12/site-packages/pytensor/link/basic.py:245\u001b[0m, in \u001b[0;36mLocalLinker.make_thunk\u001b[0;34m(self, input_storage, output_storage, storage_map, **kwargs)\u001b[0m\n\u001b[1;32m    238\u001b[0m \u001b[38;5;28;01mdef\u001b[39;00m \u001b[38;5;21mmake_thunk\u001b[39m(\n\u001b[1;32m    239\u001b[0m     \u001b[38;5;28mself\u001b[39m,\n\u001b[1;32m    240\u001b[0m     input_storage: Optional[\u001b[38;5;124m\"\u001b[39m\u001b[38;5;124mInputStorageType\u001b[39m\u001b[38;5;124m\"\u001b[39m] \u001b[38;5;241m=\u001b[39m \u001b[38;5;28;01mNone\u001b[39;00m,\n\u001b[0;32m   (...)\u001b[0m\n\u001b[1;32m    243\u001b[0m     \u001b[38;5;241m*\u001b[39m\u001b[38;5;241m*\u001b[39mkwargs,\n\u001b[1;32m    244\u001b[0m ) \u001b[38;5;241m-\u001b[39m\u001b[38;5;241m>\u001b[39m \u001b[38;5;28mtuple\u001b[39m[\u001b[38;5;124m\"\u001b[39m\u001b[38;5;124mBasicThunkType\u001b[39m\u001b[38;5;124m\"\u001b[39m, \u001b[38;5;124m\"\u001b[39m\u001b[38;5;124mInputStorageType\u001b[39m\u001b[38;5;124m\"\u001b[39m, \u001b[38;5;124m\"\u001b[39m\u001b[38;5;124mOutputStorageType\u001b[39m\u001b[38;5;124m\"\u001b[39m]:\n\u001b[0;32m--> 245\u001b[0m     \u001b[38;5;28;01mreturn\u001b[39;00m \u001b[38;5;28;43mself\u001b[39;49m\u001b[38;5;241;43m.\u001b[39;49m\u001b[43mmake_all\u001b[49m\u001b[43m(\u001b[49m\n\u001b[1;32m    246\u001b[0m \u001b[43m        \u001b[49m\u001b[43minput_storage\u001b[49m\u001b[38;5;241;43m=\u001b[39;49m\u001b[43minput_storage\u001b[49m\u001b[43m,\u001b[49m\n\u001b[1;32m    247\u001b[0m \u001b[43m        \u001b[49m\u001b[43moutput_storage\u001b[49m\u001b[38;5;241;43m=\u001b[39;49m\u001b[43moutput_storage\u001b[49m\u001b[43m,\u001b[49m\n\u001b[1;32m    248\u001b[0m \u001b[43m        \u001b[49m\u001b[43mstorage_map\u001b[49m\u001b[38;5;241;43m=\u001b[39;49m\u001b[43mstorage_map\u001b[49m\u001b[43m,\u001b[49m\n\u001b[1;32m    249\u001b[0m \u001b[43m    \u001b[49m\u001b[43m)\u001b[49m[:\u001b[38;5;241m3\u001b[39m]\n",
            "File \u001b[0;32m/usr/local/python/3.12.1/lib/python3.12/site-packages/pytensor/link/vm.py:1282\u001b[0m, in \u001b[0;36mVMLinker.make_all\u001b[0;34m(self, profiler, input_storage, output_storage, storage_map)\u001b[0m\n\u001b[1;32m   1279\u001b[0m \u001b[38;5;28;01melse\u001b[39;00m:\n\u001b[1;32m   1280\u001b[0m     post_thunk_clear \u001b[38;5;241m=\u001b[39m \u001b[38;5;28;01mNone\u001b[39;00m\n\u001b[0;32m-> 1282\u001b[0m vm \u001b[38;5;241m=\u001b[39m \u001b[38;5;28;43mself\u001b[39;49m\u001b[38;5;241;43m.\u001b[39;49m\u001b[43mmake_vm\u001b[49m\u001b[43m(\u001b[49m\n\u001b[1;32m   1283\u001b[0m \u001b[43m    \u001b[49m\u001b[43morder\u001b[49m\u001b[43m,\u001b[49m\n\u001b[1;32m   1284\u001b[0m \u001b[43m    \u001b[49m\u001b[43mthunks\u001b[49m\u001b[43m,\u001b[49m\n\u001b[1;32m   1285\u001b[0m \u001b[43m    \u001b[49m\u001b[43minput_storage\u001b[49m\u001b[43m,\u001b[49m\n\u001b[1;32m   1286\u001b[0m \u001b[43m    \u001b[49m\u001b[43moutput_storage\u001b[49m\u001b[43m,\u001b[49m\n\u001b[1;32m   1287\u001b[0m \u001b[43m    \u001b[49m\u001b[43mstorage_map\u001b[49m\u001b[43m,\u001b[49m\n\u001b[1;32m   1288\u001b[0m \u001b[43m    \u001b[49m\u001b[43mpost_thunk_clear\u001b[49m\u001b[43m,\u001b[49m\n\u001b[1;32m   1289\u001b[0m \u001b[43m    \u001b[49m\u001b[43mcomputed\u001b[49m\u001b[43m,\u001b[49m\n\u001b[1;32m   1290\u001b[0m \u001b[43m    \u001b[49m\u001b[43mcompute_map\u001b[49m\u001b[43m,\u001b[49m\n\u001b[1;32m   1291\u001b[0m \u001b[43m    \u001b[49m\u001b[38;5;28;43mself\u001b[39;49m\u001b[38;5;241;43m.\u001b[39;49m\u001b[43mupdated_vars\u001b[49m\u001b[43m,\u001b[49m\n\u001b[1;32m   1292\u001b[0m \u001b[43m\u001b[49m\u001b[43m)\u001b[49m\n\u001b[1;32m   1294\u001b[0m vm\u001b[38;5;241m.\u001b[39mstorage_map \u001b[38;5;241m=\u001b[39m storage_map\n\u001b[1;32m   1295\u001b[0m vm\u001b[38;5;241m.\u001b[39mcompute_map \u001b[38;5;241m=\u001b[39m compute_map\n",
            "File \u001b[0;32m/usr/local/python/3.12.1/lib/python3.12/site-packages/pytensor/link/vm.py:1010\u001b[0m, in \u001b[0;36mVMLinker.make_vm\u001b[0;34m(self, nodes, thunks, input_storage, output_storage, storage_map, post_thunk_clear, computed, compute_map, updated_vars)\u001b[0m\n\u001b[1;32m   1007\u001b[0m pre_call_clear \u001b[38;5;241m=\u001b[39m [storage_map[v] \u001b[38;5;28;01mfor\u001b[39;00m v \u001b[38;5;129;01min\u001b[39;00m \u001b[38;5;28mself\u001b[39m\u001b[38;5;241m.\u001b[39mno_recycling]\n\u001b[1;32m   1009\u001b[0m \u001b[38;5;28;01mtry\u001b[39;00m:\n\u001b[0;32m-> 1010\u001b[0m     \u001b[38;5;28;01mfrom\u001b[39;00m \u001b[38;5;21;01mpytensor\u001b[39;00m\u001b[38;5;21;01m.\u001b[39;00m\u001b[38;5;21;01mlink\u001b[39;00m\u001b[38;5;21;01m.\u001b[39;00m\u001b[38;5;21;01mc\u001b[39;00m\u001b[38;5;21;01m.\u001b[39;00m\u001b[38;5;21;01mcvm\u001b[39;00m \u001b[38;5;28;01mimport\u001b[39;00m CVM\n\u001b[1;32m   1011\u001b[0m \u001b[38;5;28;01mexcept\u001b[39;00m (MissingGXX, \u001b[38;5;167;01mImportError\u001b[39;00m):\n\u001b[1;32m   1012\u001b[0m     CVM \u001b[38;5;241m=\u001b[39m \u001b[38;5;28;01mNone\u001b[39;00m\n",
            "File \u001b[0;32m/usr/local/python/3.12.1/lib/python3.12/site-packages/pytensor/link/c/cvm.py:13\u001b[0m\n\u001b[1;32m      9\u001b[0m \u001b[38;5;28;01mif\u001b[39;00m \u001b[38;5;129;01mnot\u001b[39;00m config\u001b[38;5;241m.\u001b[39mcxx:\n\u001b[1;32m     10\u001b[0m     \u001b[38;5;28;01mraise\u001b[39;00m MissingGXX(\n\u001b[1;32m     11\u001b[0m         \u001b[38;5;124m\"\u001b[39m\u001b[38;5;124mlazylinker will not be imported if pytensor.config.cxx is not set.\u001b[39m\u001b[38;5;124m\"\u001b[39m\n\u001b[1;32m     12\u001b[0m     )\n\u001b[0;32m---> 13\u001b[0m \u001b[38;5;28;01mfrom\u001b[39;00m \u001b[38;5;21;01mpytensor\u001b[39;00m\u001b[38;5;21;01m.\u001b[39;00m\u001b[38;5;21;01mlink\u001b[39;00m\u001b[38;5;21;01m.\u001b[39;00m\u001b[38;5;21;01mc\u001b[39;00m\u001b[38;5;21;01m.\u001b[39;00m\u001b[38;5;21;01mlazylinker_c\u001b[39;00m \u001b[38;5;28;01mimport\u001b[39;00m CLazyLinker\n\u001b[1;32m     15\u001b[0m \u001b[38;5;28;01mclass\u001b[39;00m \u001b[38;5;21;01mCVM\u001b[39;00m(CLazyLinker, VM):\n\u001b[1;32m     16\u001b[0m     \u001b[38;5;28;01mdef\u001b[39;00m \u001b[38;5;21m__init__\u001b[39m(\u001b[38;5;28mself\u001b[39m, fgraph, \u001b[38;5;241m*\u001b[39margs, \u001b[38;5;241m*\u001b[39m\u001b[38;5;241m*\u001b[39mkwargs):\n",
            "File \u001b[0;32m/usr/local/python/3.12.1/lib/python3.12/site-packages/pytensor/link/c/lazylinker_c.py:122\u001b[0m\n\u001b[1;32m    119\u001b[0m loc\u001b[38;5;241m.\u001b[39mmkdir(exist_ok\u001b[38;5;241m=\u001b[39m\u001b[38;5;28;01mTrue\u001b[39;00m)\n\u001b[1;32m    121\u001b[0m args \u001b[38;5;241m=\u001b[39m GCC_compiler\u001b[38;5;241m.\u001b[39mcompile_args()\n\u001b[0;32m--> 122\u001b[0m \u001b[43mGCC_compiler\u001b[49m\u001b[38;5;241;43m.\u001b[39;49m\u001b[43mcompile_str\u001b[49m\u001b[43m(\u001b[49m\u001b[43mdirname\u001b[49m\u001b[43m,\u001b[49m\u001b[43m \u001b[49m\u001b[43mcode\u001b[49m\u001b[43m,\u001b[49m\u001b[43m \u001b[49m\u001b[43mlocation\u001b[49m\u001b[38;5;241;43m=\u001b[39;49m\u001b[43mloc\u001b[49m\u001b[43m,\u001b[49m\u001b[43m \u001b[49m\u001b[43mpreargs\u001b[49m\u001b[38;5;241;43m=\u001b[39;49m\u001b[43margs\u001b[49m\u001b[43m)\u001b[49m\n\u001b[1;32m    123\u001b[0m \u001b[38;5;66;03m# Save version into the __init__.py file.\u001b[39;00m\n\u001b[1;32m    124\u001b[0m init_py \u001b[38;5;241m=\u001b[39m loc \u001b[38;5;241m/\u001b[39m \u001b[38;5;124m\"\u001b[39m\u001b[38;5;124m__init__.py\u001b[39m\u001b[38;5;124m\"\u001b[39m\n",
            "File \u001b[0;32m/usr/local/python/3.12.1/lib/python3.12/site-packages/pytensor/link/c/cmodule.py:2654\u001b[0m, in \u001b[0;36mGCC_compiler.compile_str\u001b[0;34m(module_name, src_code, location, include_dirs, lib_dirs, libs, preargs, py_module, hide_symbols)\u001b[0m\n\u001b[1;32m   2646\u001b[0m                 \u001b[38;5;28mprint\u001b[39m(\n\u001b[1;32m   2647\u001b[0m                     \u001b[38;5;124m\"\u001b[39m\u001b[38;5;124mCheck if package python-dev or python-devel is installed.\u001b[39m\u001b[38;5;124m\"\u001b[39m\n\u001b[1;32m   2648\u001b[0m                 )\n\u001b[1;32m   2650\u001b[0m     \u001b[38;5;66;03m# We replace '\\n' by '. ' in the error message because when Python\u001b[39;00m\n\u001b[1;32m   2651\u001b[0m     \u001b[38;5;66;03m# prints the exception, having '\\n' in the text makes it more\u001b[39;00m\n\u001b[1;32m   2652\u001b[0m     \u001b[38;5;66;03m# difficult to read.\u001b[39;00m\n\u001b[1;32m   2653\u001b[0m     \u001b[38;5;66;03m# compile_stderr = compile_stderr.replace(\"\\n\", \". \")\u001b[39;00m\n\u001b[0;32m-> 2654\u001b[0m     \u001b[38;5;28;01mraise\u001b[39;00m CompileError(\n\u001b[1;32m   2655\u001b[0m         \u001b[38;5;124mf\u001b[39m\u001b[38;5;124m\"\u001b[39m\u001b[38;5;124mCompilation failed (return status=\u001b[39m\u001b[38;5;132;01m{\u001b[39;00mstatus\u001b[38;5;132;01m}\u001b[39;00m\u001b[38;5;124m):\u001b[39m\u001b[38;5;130;01m\\n\u001b[39;00m\u001b[38;5;132;01m{\u001b[39;00m\u001b[38;5;124m'\u001b[39m\u001b[38;5;124m \u001b[39m\u001b[38;5;124m'\u001b[39m\u001b[38;5;241m.\u001b[39mjoin(cmd)\u001b[38;5;132;01m}\u001b[39;00m\u001b[38;5;130;01m\\n\u001b[39;00m\u001b[38;5;132;01m{\u001b[39;00mcompile_stderr\u001b[38;5;132;01m}\u001b[39;00m\u001b[38;5;124m\"\u001b[39m\n\u001b[1;32m   2656\u001b[0m     )\n\u001b[1;32m   2657\u001b[0m \u001b[38;5;28;01melif\u001b[39;00m config\u001b[38;5;241m.\u001b[39mcmodule__compilation_warning \u001b[38;5;129;01mand\u001b[39;00m compile_stderr:\n\u001b[1;32m   2658\u001b[0m     \u001b[38;5;66;03m# Print errors just below the command line.\u001b[39;00m\n\u001b[1;32m   2659\u001b[0m     \u001b[38;5;28mprint\u001b[39m(compile_stderr)\n",
            "\u001b[0;31mCompileError\u001b[0m: Compilation failed (return status=1):\n/usr/bin/g++ -shared -g -Wno-c++11-narrowing -fno-exceptions -fno-unwind-tables -fno-asynchronous-unwind-tables -march=icelake-server -mmmx -mno-3dnow -msse -msse2 -msse3 -mssse3 -mno-sse4a -mcx16 -msahf -mmovbe -maes -msha -mpclmul -mpopcnt -mabm -mno-lwp -mfma -mno-fma4 -mno-xop -mbmi -mno-sgx -mbmi2 -mno-pconfig -mno-wbnoinvd -mno-tbm -mavx -mavx2 -msse4.2 -msse4.1 -mlzcnt -mrtm -mhle -mrdrnd -mf16c -mfsgsbase -mrdseed -mprfchw -madx -mfxsr -mxsave -mxsaveopt -mavx512f -mno-avx512er -mavx512cd -mno-avx512pf -mno-prefetchwt1 -mclflushopt -mxsavec -mxsaves -mavx512dq -mavx512bw -mavx512vl -mavx512ifma -mavx512vbmi -mno-avx5124fmaps -mno-avx5124vnniw -mclwb -mno-mwaitx -mno-clzero -mno-pku -mrdpid -mgfni -mno-shstk -mavx512vbmi2 -mavx512vnni -mvaes -mvpclmulqdq -mavx512bitalg -mavx512vpopcntdq -mno-movdiri -mno-movdir64b -mno-waitpkg -mno-cldemote -mno-ptwrite --param l1-cache-size=48 --param l1-cache-line-size=64 --param l2-cache-size=49152 -mtune=icelake-server -DNPY_NO_DEPRECATED_API=NPY_1_7_API_VERSION -m64 -fPIC -I/usr/local/python/3.12.1/lib/python3.12/site-packages/numpy/core/include -I/usr/local/python/3.12.1/include/python3.12 -I/usr/local/python/3.12.1/lib/python3.12/site-packages/pytensor/link/c/c_code -L/usr/local/python/3.12.1/lib -fvisibility=hidden -o /home/codespace/.pytensor/compiledir_Linux-6.5--azure-x86_64-with-glibc2.31-x86_64-3.12.1-64/lazylinker_ext/lazylinker_ext.so /home/codespace/.pytensor/compiledir_Linux-6.5--azure-x86_64-with-glibc2.31-x86_64-3.12.1-64/lazylinker_ext/mod.cpp -lpython3.12\n/usr/bin/ld: /usr/local/python/3.12.1/lib/libpython3.12.a(import.o): relocation R_X86_64_TPOFF32 against hidden symbol `pkgcontext' can not be used when making a shared object\n/usr/bin/ld: /usr/local/python/3.12.1/lib/libpython3.12.a(pystate.o): relocation R_X86_64_TPOFF32 against hidden symbol `_Py_tss_tstate' can not be used when making a shared object\n/usr/bin/ld: /usr/local/python/3.12.1/lib/libpython3.12.a(bytearrayobject.o): relocation R_X86_64_PC32 against symbol `_Py_NoneStruct' can not be used when making a shared object; recompile with -fPIC\n/usr/bin/ld: final link failed: bad value\ncollect2: error: ld returned 1 exit status\n"
          ]
        }
      ],
      "source": [
        "with pm.Model() as model_bb:\n",
        "    probability = pm.Beta(\"probability\", alpha=1, beta=1)\n",
        "    coin = pm.Bernoulli(\"coin\", p=probability, observed=samples)\n",
        "    trace = pm.sample(1000, return_inferencedata=True)\n",
        "\n",
        "az.plot_trace(trace)\n"
      ]
    },
    {
      "cell_type": "code",
      "execution_count": null,
      "metadata": {
        "id": "ccuHyAQVvv_l"
      },
      "outputs": [],
      "source": [
        "# Modify the model to accept your data samples, and then run MCMC and display all you can display (model, probability distributions, etc.)\n",
        "# You can use pm.sample, az.plot_posterior\n",
        "# Your code"
      ]
    },
    {
      "cell_type": "code",
      "execution_count": null,
      "metadata": {
        "id": "xaKNm5Dw1rNg"
      },
      "outputs": [],
      "source": [
        "# Note that there is another way to do this, using the Binomial distribution rather than the Bernoulli\n",
        "# The Binomial just counts the number of successes of a Bernoulli trial, so it contains the same information\n",
        "# Modify the code\n",
        "with pm.Model() as model_bb_bayes_2:\n",
        "    probability = pm.Beta(\"probability\", 0.5, 0.5)\n",
        "    coin = pm.Binomial(\"coin\", p=probability, n=#the number of trials you did, observed=#your observed data samples)"
      ]
    },
    {
      "cell_type": "code",
      "execution_count": null,
      "metadata": {
        "id": "YD1mtEDq2gUq"
      },
      "outputs": [],
      "source": [
        "# Run the inference and analysis of this model"
      ]
    },
    {
      "cell_type": "markdown",
      "metadata": {
        "id": "f4VwFLVPvC2q"
      },
      "source": [
        "## Several dependent Beta-Bernoulli"
      ]
    },
    {
      "cell_type": "code",
      "execution_count": null,
      "metadata": {
        "id": "AbJ2lJMf5p7g"
      },
      "outputs": [],
      "source": [
        "# Here we start by defining a model with variables traffic and umbrella dependent on rain\n",
        "# We fix the values of the probabilities defining the model, because we'd like to sample a synthetic dataset, directly using PyMC this time\n",
        "with pm.Model() as model_base:\n",
        "    pr  = 0.65\n",
        "    rain = pm.Bernoulli(\"rain\", pr)\n",
        "    pt1 = 0.7\n",
        "    pt2 = 0.4\n",
        "    pt = pm.math.switch(rain, pt1, pt2)\n",
        "    traffic = pm.Bernoulli(\"traffic\", pt)\n",
        "    pu1 = 0.8\n",
        "    pu2 = 0.3\n",
        "    pu = pm.math.switch(rain, pu1, pu2)\n",
        "    umbrella = pm.Bernoulli(\"umbrella\", pu)"
      ]
    },
    {
      "cell_type": "code",
      "execution_count": null,
      "metadata": {
        "id": "cuQ7IH5i8K_R"
      },
      "outputs": [],
      "source": [
        "pm.model_to_graphviz(model_base)"
      ]
    },
    {
      "cell_type": "code",
      "execution_count": null,
      "metadata": {
        "id": "Px06Popw86wn"
      },
      "outputs": [],
      "source": [
        "# Draw synthetic samples of the model\n",
        "# Note here that we use n_d_samples for the number of data samples, while we will use n_i_samples for the number of samples we will ask the MCMC to generate\n",
        "n_d_samples = 1000\n",
        "with model_base:\n",
        "  samples_base = pm.draw([rain, traffic, umbrella], draws=n_d_samples)"
      ]
    },
    {
      "cell_type": "code",
      "execution_count": null,
      "metadata": {
        "id": "G9USOPI5_b7C"
      },
      "outputs": [],
      "source": [
        "# Here it is asked that you compute the different probabilities characterizing the model simply from the statistics of the synthetic dataset just created.\n",
        "# You will not use inference, you wil just compute statistics using counting and normalisation\n",
        "print(f\"rain pr is: {np.sum(samples_base[0])/len(samples_base[0])} ({len(samples_base[0])} samples)\")\n",
        "# Your code here for pt1, pt2, pu1, pu2, which are conditional probability distributions\n",
        "count_traffics_t1 = #\n",
        "count_traffics_t2 = #\n",
        "ept1 = np.sum(count_traffics_t1)/len(count_traffics_t1)\n",
        "ept2 = np.sum(count_traffics_t2)/len(count_traffics_t2)\n",
        "print(f\"traffics pt1 (P(traffic|rain)) is: {ept1} (computed on {len(count_traffics_t1)} samples)\")\n",
        "print(f\"traffics pt2 (P(traffic|!rain)) is: {ept2} (coputed on {len(count_traffics_t2)} samples)\")\n",
        "count_umbrellas_u1 = #\n",
        "count_umbrellas_u2 = #\n",
        "epu1 = np.sum(count_umbrellas_u1)/len(count_umbrellas_u1)\n",
        "epu2 = np.sum(count_umbrellas_u2)/len(count_umbrellas_u2)\n",
        "print(f\"umbrellas pu1 ((P(umbrella|rain)) is: {epu1} (computed on {len(count_umbrellas_u1)} samples)\")\n",
        "print(f\"umbrellas pu2 (P(umbrella|!rain)) is: {epu2} (computed on {len(count_umbrellas_u2)} samples)\")"
      ]
    },
    {
      "cell_type": "code",
      "execution_count": null,
      "metadata": {
        "id": "nY6xWzzqx4pV"
      },
      "outputs": [],
      "source": [
        "# From the computed model just above, compute the probability of rain, given that traffic and umbrellas are observed to be present. You should use Bayes rule.\n",
        "# Your code"
      ]
    },
    {
      "cell_type": "code",
      "execution_count": null,
      "metadata": {
        "id": "x5pzUJ3BJCGS"
      },
      "outputs": [],
      "source": [
        "# What happens if we try to do MCMC on this model?\n",
        "n_i_samples = 1000\n",
        "with model_base:\n",
        "  trace_base = pm.sample(n_i_samples)\n",
        "#print(trace_base)"
      ]
    },
    {
      "cell_type": "code",
      "execution_count": null,
      "metadata": {
        "id": "JvO_qb8VJjrb"
      },
      "outputs": [],
      "source": [
        "az.plot_posterior(trace_base)"
      ]
    },
    {
      "cell_type": "code",
      "execution_count": null,
      "metadata": {
        "id": "52JtB8zmNONy"
      },
      "outputs": [],
      "source": [
        "# Please add your comments on the results here\n",
        "# Your comments"
      ]
    },
    {
      "cell_type": "code",
      "execution_count": null,
      "metadata": {
        "id": "A5DV8T8e3bO8"
      },
      "outputs": [],
      "source": [
        "# We will now define a model that will this time enable MCMC for infering model parameter distributions\n",
        "# This implies defining random variables for the model parameters.\n",
        "# This is already done for rain but not the other variables.\n",
        "# You hence need to complete the code\n",
        "with pm.Model() as model_bayes:\n",
        "    pr = pm.Beta(\"pr\", 1, 1)\n",
        "    rain = pm.Bernoulli(\"rain\", pr)\n",
        "    #\n",
        "    pt = pm.math.switch(rain, pt1, pt2)\n",
        "    traffic = pm.Bernoulli(\"traffic\", pt)\n",
        "    #\n",
        "    pu = pm.math.switch(rain, pu1, pu2)\n",
        "    umbrella = pm.Bernoulli(\"umbrella\", pu)"
      ]
    },
    {
      "cell_type": "code",
      "execution_count": null,
      "metadata": {
        "id": "GM0VZKS88UTF"
      },
      "outputs": [],
      "source": [
        "pm.model_to_graphviz(model_bayes)"
      ]
    },
    {
      "cell_type": "code",
      "execution_count": null,
      "metadata": {
        "id": "U1ZPaJ8-6YGL"
      },
      "outputs": [],
      "source": [
        "# What happens if we try to do MCMC on this model?\n",
        "n_i_samples = 1000\n",
        "with model_bayes:\n",
        "  trace_bayes = pm.sample(n_i_samples)"
      ]
    },
    {
      "cell_type": "code",
      "execution_count": null,
      "metadata": {
        "id": "icsWkeHX8EQk"
      },
      "outputs": [],
      "source": [
        "# Note that MCMC results are returned as an ArviZ InferenceData object - https://python.arviz.org/en/latest/apr/generated/arviz.InferenceData.html#arviz.InferenceData"
      ]
    },
    {
      "cell_type": "code",
      "execution_count": null,
      "metadata": {
        "id": "AJeSIxcKUm0f"
      },
      "outputs": [],
      "source": [
        "# Let's look more closely a some of the generated samples for pr\n",
        "plt.plot(trace_bayes.posterior[\"pr\"][0]);"
      ]
    },
    {
      "cell_type": "code",
      "execution_count": null,
      "metadata": {
        "id": "ZCpvomX_Nm8_"
      },
      "outputs": [],
      "source": [
        "# And at their probability distributions\n",
        "az.plot_trace(trace_bayes)\n",
        "az.plot_posterior(trace_bayes)"
      ]
    },
    {
      "cell_type": "code",
      "execution_count": null,
      "metadata": {
        "id": "u_bLIqL1Vhjk"
      },
      "outputs": [],
      "source": [
        "# Please add your comments on the results here\n",
        "# Your comments"
      ]
    },
    {
      "cell_type": "code",
      "execution_count": null,
      "metadata": {
        "id": "cuIQSBmrO0u4"
      },
      "outputs": [],
      "source": [
        "# OK, this time we will do it completely.\n",
        "# This implies giving data samples to the model so that inference can converge towards something that is coherent with the data\n",
        "# Complete the code. You need to use the observed kwarg when defining the random variables, because you have observations for all: rain, traffic, umbrella\n",
        "with pm.Model() as model_bayes_withObs:\n",
        "    pr = pm.Beta(\"pr\", 1, 1)\n",
        "    rain = pm.Bernoulli(\"rain\", pr, observed = # )\n",
        "    #\n",
        "    pt = pm.math.switch(rain, pt1, pt2)\n",
        "    traffic = pm.Bernoulli(\"traffic\", pt, observed = # )\n",
        "    #\n",
        "    pu = pm.math.switch(rain, pu1, pu2)\n",
        "    umbrella = pm.Bernoulli(\"umbrella\", pu, observed = # )"
      ]
    },
    {
      "cell_type": "code",
      "execution_count": null,
      "metadata": {
        "id": "OwenAdgM09QH"
      },
      "outputs": [],
      "source": [
        "pm.model_to_graphviz(model_bayes_withObs)"
      ]
    },
    {
      "cell_type": "code",
      "execution_count": null,
      "metadata": {
        "id": "wbn-ViXMPGtV"
      },
      "outputs": [],
      "source": [
        "# This should work this time\n",
        "n_i_samples = 1000\n",
        "with model_bayes_withObs:\n",
        "  trace_bayes_withObs = pm.sample(n_i_samples)"
      ]
    },
    {
      "cell_type": "code",
      "execution_count": null,
      "metadata": {
        "id": "eroswKZaWjAn"
      },
      "outputs": [],
      "source": [
        "# Nice samples\n",
        "plt.plot(trace_bayes_withObs.posterior[\"pr\"][0]);"
      ]
    },
    {
      "cell_type": "code",
      "execution_count": null,
      "metadata": {
        "id": "ewaQ29U6QLf5"
      },
      "outputs": [],
      "source": [
        "# Nice summary\n",
        "az.summary(trace_bayes_withObs)"
      ]
    },
    {
      "cell_type": "code",
      "execution_count": null,
      "metadata": {
        "id": "oMlxGEmnPLVI"
      },
      "outputs": [],
      "source": [
        "# And nice probability distribution\n",
        "az.plot_trace(trace_bayes_withObs)\n",
        "az.plot_posterior(trace_bayes_withObs)"
      ]
    },
    {
      "cell_type": "code",
      "execution_count": null,
      "metadata": {
        "id": "PUb9liY6aObI"
      },
      "outputs": [],
      "source": [
        " trace_bayes_withObs"
      ]
    },
    {
      "cell_type": "markdown",
      "metadata": {
        "id": "tU0zBP_t1b-f"
      },
      "source": [
        "## Dirichlet-Categorical, or Dirichlet-Multinomial"
      ]
    },
    {
      "cell_type": "code",
      "execution_count": null,
      "metadata": {
        "id": "jaZqWRQc2y8a"
      },
      "outputs": [],
      "source": [
        "# We now have a situation with 6 categories with probabilities encoded here below\n",
        "# And we want to generate samples of Categorical trials (such as the roll of a dice) to constitute our dataset for the exercice.\n",
        "# Here, we can also use the Multinomial (rather than Categorical), similarly to Binomial vs. Bernouilli, because the Multinomial is just based on the number of counts of a series of Categorial trials.\n",
        "true_conc = 1\n",
        "true_frac = np.array([0.45, 0.30, 0.15, 0.09, 0.01])\n",
        "k = len(true_frac)  # Number of different categories\n",
        "total_count = 100 # Number of samples for the multinomial counts\n",
        "n_d_samples = 10  # Number of Multinomial trials"
      ]
    },
    {
      "cell_type": "code",
      "execution_count": null,
      "metadata": {
        "id": "GARY21L74sDI"
      },
      "outputs": [],
      "source": [
        "# Generating samples using scipy.stats\n",
        "true_p = sp.stats.dirichlet(true_conc * true_frac).rvs(size=n_d_samples)\n",
        "observed_counts = np.vstack([sp.stats.multinomial(n=total_count, p=p_i).rvs() for p_i in true_p]) # Multinomial here"
      ]
    },
    {
      "cell_type": "code",
      "execution_count": null,
      "metadata": {
        "id": "4nzKE6qv3aMW"
      },
      "outputs": [],
      "source": [
        "# Or else generating samples using PyMC\n",
        "with pm.Model() as model_dm_base:\n",
        "    counts = pm.Multinomial(\"counts\", n=total_count, p=true_frac)\n",
        "    samples_dm_base = pm.draw([counts], draws=n_d_samples) # here I will have several observations"
      ]
    },
    {
      "cell_type": "code",
      "execution_count": null,
      "metadata": {
        "id": "GlIvs7FM6NxB"
      },
      "outputs": [],
      "source": [
        "# Look at the samples.\n",
        "# Write your comments\n",
        "samples_dm_base"
      ]
    },
    {
      "cell_type": "code",
      "execution_count": null,
      "metadata": {
        "id": "Z6gT4CWzx40P"
      },
      "outputs": [],
      "source": [
        "# Now suppose that you got those samples from a real experiment, and you are asked to infer model parameters that were before hardwired in true_frac\n",
        "# We need to add a random variable to the model to take the role of true_frac. Let's call it infer_frac. It will be distributed as a Dirichlet\n",
        "# which is a probability distribution whose each sample is a vector of values that sum to one and can hence be used as the parameter p of the Multinomial.\n",
        "n_i_samples = 1000\n",
        "with pm.Model() as model_dm_bayes:\n",
        "  # Your code"
      ]
    },
    {
      "cell_type": "code",
      "execution_count": null,
      "metadata": {
        "id": "jkbgawTH5WG3"
      },
      "outputs": [],
      "source": [
        "pm.model_to_graphviz(model_dm_bayes)"
      ]
    },
    {
      "cell_type": "code",
      "execution_count": null,
      "metadata": {
        "id": "6Py2aEPt5kFq"
      },
      "outputs": [],
      "source": [
        " # Inference run\n",
        " with model_dm_bayes:\n",
        "   trace_dm = pm.sample(n_i_samples)"
      ]
    },
    {
      "cell_type": "code",
      "execution_count": null,
      "metadata": {
        "id": "z1hYDEp-7vtR"
      },
      "outputs": [],
      "source": [
        "az.plot_trace(trace_dm, legend=True, compact=True)\n",
        "az.plot_posterior(trace_dm)"
      ]
    },
    {
      "cell_type": "code",
      "execution_count": null,
      "metadata": {
        "id": "YHjMGJU75rjR"
      },
      "outputs": [],
      "source": [
        "# Please comment on what you see above"
      ]
    },
    {
      "cell_type": "code",
      "execution_count": null,
      "metadata": {
        "id": "DhxPmTqSaWW9"
      },
      "outputs": [],
      "source": [
        "# Here, we ask you to redo the MCMC sampling, but not discarding what is called the tuning samples\n",
        "#  These are samples generated at the beginning of the sampling process,\n",
        "#  that are used to tune the sampling parameters,\n",
        "#  and that may hence not yet have converged to the true desired distribution\n",
        " with model_dm_bayes:\n",
        "    trace_dm_tuning = pm.sample(n_i_samples, discard_tuned_samples=False)"
      ]
    },
    {
      "cell_type": "code",
      "execution_count": null,
      "metadata": {
        "id": "Jq62ORdDal5R"
      },
      "outputs": [],
      "source": [
        "az.plot_trace(trace_dm_tuning, legend=True, compact=True)\n",
        "az.plot_posterior(trace_dm_tuning)"
      ]
    },
    {
      "cell_type": "code",
      "execution_count": null,
      "metadata": {
        "id": "vwPLVN_yaz8t"
      },
      "outputs": [],
      "source": [
        "# If we plot the early samples of the chain, we should normally observe that their statistics are different from those later in the chain\n",
        "plt.plot(trace_dm_tuning.posterior[\"infer_frac\"][0][0:200]);"
      ]
    },
    {
      "cell_type": "code",
      "execution_count": null,
      "metadata": {
        "id": "jaB7N3URa-WW"
      },
      "outputs": [],
      "source": [
        "# ArviZ enable to display probability distributions. You have done it earlier with plot_trace, etc..\n",
        "# Here we use another method plot_dist which can be useful too\n",
        "az.plot_dist(trace_dm_tuning.posterior[\"infer_frac\"][0][0:75][:,0], color='r', rug=True);\n",
        "az.plot_dist(trace_dm_tuning.posterior[\"infer_frac\"][0][75:1000][:,0], color='g', rug=True);"
      ]
    },
    {
      "cell_type": "code",
      "execution_count": null,
      "metadata": {
        "id": "gJvrAqKA6xRe"
      },
      "outputs": [],
      "source": [
        "# Please comment on what you see in the figure above"
      ]
    },
    {
      "cell_type": "code",
      "execution_count": null,
      "metadata": {
        "id": "i8fSn-4gXdKG"
      },
      "outputs": [],
      "source": [
        "# Another aspect regarding the MCMC samples is to analyse and discuss about their correlation\n",
        "# 1) First there can be correlation between the different variables that are samples, and you can hence mix them in different orders\n",
        "#    this is illustrated here with infer_frac (remember, the elements of infer_frac should indeed be correlated because they sum to one)\n",
        "plt.scatter(trace_dm.posterior[\"infer_frac\"][0][0:100][:,0], trace_dm.posterior[\"probas\"][0][0:100][:,1], alpha=0.5)\n",
        "plt.title(\"Scatter plot or infer_frac[0] and infer_frac[1]\")\n",
        "plt.xlabel(r\"infer_frac[0]\")\n",
        "plt.ylabel(r\"infer_frac[1]\");"
      ]
    },
    {
      "cell_type": "code",
      "execution_count": null,
      "metadata": {
        "id": "NMUF97gj7oyL"
      },
      "outputs": [],
      "source": []
    },
    {
      "cell_type": "code",
      "execution_count": null,
      "metadata": {
        "id": "ATLumO1GYUW3"
      },
      "outputs": [],
      "source": [
        "# 2) Another case of correlation is the correlation along time during sampling, i.e. from a sample to the next one, and iteratively.\n",
        "#    Ideally, samples should be independent, but in practice they are not because of limitations inherent to the MCMC process.\n",
        "#    Use this approach to analyse the problem https://python.arviz.org/en/stable/apr/generated/arviz.plot_autocorr.html\n",
        "az.plot_autocorr(trace_dm, max_lag=10, combined=True)"
      ]
    },
    {
      "cell_type": "code",
      "execution_count": null,
      "metadata": {
        "id": "sfrC_JkT8gQP"
      },
      "outputs": [],
      "source": [
        "# Please comment on the observed results. Do you see a problem?\n",
        "# Look into the method called \"thinning\" to understand how to solve the problem."
      ]
    },
    {
      "cell_type": "code",
      "execution_count": null,
      "metadata": {
        "id": "lg4dnANdc5Px"
      },
      "outputs": [],
      "source": [
        "# If might be interesting to run a similar Dirichlet model using a Categorical distribution rather than a Multinomial"
      ]
    },
    {
      "cell_type": "code",
      "execution_count": null,
      "metadata": {
        "id": "Y9hfUgWP__D3"
      },
      "outputs": [],
      "source": [
        "# It might also be interesting to try a Dirichlet-Multinomial model on the two uses cases seen in TP1 where a Poisson distribution was used (coal mine disasters, numbers of messages sent).\n",
        "# Your code to do that."
      ]
    },
    {
      "cell_type": "markdown",
      "metadata": {
        "id": "fA60nuLg9Pjl"
      },
      "source": [
        "## Gaussian Mixture Model (GMM)\n",
        "A GMM is a very important unsupervised learning model, that enable to do multidimensional data clustering. It's being used everywhere. Here, we will see the Bayesian approach to GMMs. For learning the Mixture model, we invite you to follow those tutorials:\n",
        "- https://www.pymc.io/projects/examples/en/latest/mixture_models/gaussian_mixture_model.html\n",
        "- https://github.com/CamDavidsonPilon/Probabilistic-Programming-and-Bayesian-Methods-for-Hackers/blob/master/Chapter3_MCMC/Ch3_IntroMCMC_PyMC_current.ipynb\n",
        "  - but only from \"Example: Unsupervised Clustering using a Mixture Model\" until \"Using MAP to improve convergence\" (What's before and after is not about GMMs, and we'll look into that later.)"
      ]
    },
    {
      "cell_type": "code",
      "execution_count": null,
      "metadata": {
        "id": "obWwpgdfDBOu"
      },
      "outputs": [],
      "source": [
        "# Your code here"
      ]
    },
    {
      "cell_type": "markdown",
      "metadata": {
        "id": "7NWMtY1N-55w"
      },
      "source": [
        "## More Reading\n",
        "When you are done, we invite you to also read all the rest of (you did the GMM part already):\n",
        "- https://github.com/CamDavidsonPilon/Probabilistic-Programming-and-Bayesian-Methods-for-Hackers/blob/master/Chapter3_MCMC/Ch3_IntroMCMC_PyMC_current.ipynb"
      ]
    },
    {
      "cell_type": "code",
      "execution_count": null,
      "metadata": {
        "id": "ORLZmTcPDD7o"
      },
      "outputs": [],
      "source": [
        "# Your code here"
      ]
    }
  ],
  "metadata": {
    "colab": {
      "provenance": []
    },
    "kernelspec": {
      "display_name": "Python 3",
      "name": "python3"
    },
    "language_info": {
      "codemirror_mode": {
        "name": "ipython",
        "version": 3
      },
      "file_extension": ".py",
      "mimetype": "text/x-python",
      "name": "python",
      "nbconvert_exporter": "python",
      "pygments_lexer": "ipython3",
      "version": "3.12.1"
    }
  },
  "nbformat": 4,
  "nbformat_minor": 0
}
