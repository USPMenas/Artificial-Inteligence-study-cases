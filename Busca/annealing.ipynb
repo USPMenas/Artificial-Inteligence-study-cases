{
 "cells": [
  {
   "cell_type": "code",
   "execution_count": 2,
   "metadata": {},
   "outputs": [],
   "source": [
    "import numpy as np \n",
    "from scipy.optimize import basinhopping"
   ]
  },
  {
   "cell_type": "code",
   "execution_count": 3,
   "metadata": {},
   "outputs": [],
   "source": [
    "def rosenbrock(x):\n",
    "    return (1 - x[0])**2 + 100*(x[1] - x[0]**2)**2"
   ]
  },
  {
   "cell_type": "code",
   "execution_count": 5,
   "metadata": {},
   "outputs": [
    {
     "name": "stdout",
     "output_type": "stream",
     "text": [
      "                    message: ['requested number of basinhopping iterations completed successfully']\n",
      "                    success: True\n",
      "                        fun: 3.8846910401487045e-12\n",
      "                          x: [ 1.000e+00  1.000e+00]\n",
      "                        nit: 100\n",
      "      minimization_failures: 0\n",
      "                       nfev: 6843\n",
      "                       njev: 2281\n",
      " lowest_optimization_result:  message: CONVERGENCE: NORM OF PROJECTED GRADIENT <= PGTOL\n",
      "                              success: True\n",
      "                               status: 0\n",
      "                                  fun: 3.8846910401487045e-12\n",
      "                                    x: [ 1.000e+00  1.000e+00]\n",
      "                                  nit: 15\n",
      "                                  jac: [ 4.040e-07  8.320e-07]\n",
      "                                 nfev: 99\n",
      "                                 njev: 33\n",
      "                             hess_inv: <2x2 LbfgsInvHessProduct with dtype=float64>\n"
     ]
    }
   ],
   "source": [
    "bounds = [(-2,2), (-2,2)] # limites inferior e superior respecitivamente\n",
    "\n",
    "x0 = np.array([0,0]) # buscando o valor 0,0\n",
    "\n",
    "options = {'stepsize': 0.5, 'T': 1.0, 'niter': 100, 'disp': False}\n",
    "# stepsize: muito grande faz ele dar passos maiores na busca\n",
    "# T: temperatura do algoritmo, quanto maior mais explorador será\n",
    "# niter: numero maximo de interações\n",
    "# disp: só dar o resultado na última interação se for False\n",
    "\n",
    "result = basinhopping(rosenbrock, x0, minimizer_kwargs={'bounds': bounds}, **options)\n",
    "\n",
    "print(result)\n"
   ]
  }
 ],
 "metadata": {
  "language_info": {
   "name": "python"
  }
 },
 "nbformat": 4,
 "nbformat_minor": 2
}
