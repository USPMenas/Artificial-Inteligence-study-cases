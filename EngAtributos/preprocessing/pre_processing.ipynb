{
 "cells": [
  {
   "cell_type": "code",
   "execution_count": 2,
   "metadata": {},
   "outputs": [],
   "source": [
    "import pandas as pd\n",
    "from sklearn.preprocessing import LabelEncoder, StandardScaler"
   ]
  },
  {
   "cell_type": "code",
   "execution_count": 4,
   "metadata": {},
   "outputs": [
    {
     "data": {
      "text/plain": [
       "(1000, 8)"
      ]
     },
     "execution_count": 4,
     "metadata": {},
     "output_type": "execute_result"
    }
   ],
   "source": [
    "dataset = pd.read_csv('credit_simple.csv', sep=';')\n",
    "\n",
    "dataset.shape"
   ]
  },
  {
   "cell_type": "code",
   "execution_count": 5,
   "metadata": {},
   "outputs": [
    {
     "data": {
      "text/html": [
       "<div>\n",
       "<style scoped>\n",
       "    .dataframe tbody tr th:only-of-type {\n",
       "        vertical-align: middle;\n",
       "    }\n",
       "\n",
       "    .dataframe tbody tr th {\n",
       "        vertical-align: top;\n",
       "    }\n",
       "\n",
       "    .dataframe thead th {\n",
       "        text-align: right;\n",
       "    }\n",
       "</style>\n",
       "<table border=\"1\" class=\"dataframe\">\n",
       "  <thead>\n",
       "    <tr style=\"text-align: right;\">\n",
       "      <th></th>\n",
       "      <th>SALDO_ATUAL</th>\n",
       "      <th>RESIDENCIADESDE</th>\n",
       "      <th>IDADE</th>\n",
       "      <th>OUTROSPLANOSPGTO</th>\n",
       "      <th>DATA</th>\n",
       "      <th>ESTADOCIVIL</th>\n",
       "      <th>PROPOSITO</th>\n",
       "      <th>CLASSE</th>\n",
       "    </tr>\n",
       "  </thead>\n",
       "  <tbody>\n",
       "    <tr>\n",
       "      <th>0</th>\n",
       "      <td>1169.0</td>\n",
       "      <td>4</td>\n",
       "      <td>67</td>\n",
       "      <td>nenhum</td>\n",
       "      <td>01/01/2019</td>\n",
       "      <td>masculino solteiro</td>\n",
       "      <td>radio/tv</td>\n",
       "      <td>bom</td>\n",
       "    </tr>\n",
       "    <tr>\n",
       "      <th>1</th>\n",
       "      <td>5951.0</td>\n",
       "      <td>2</td>\n",
       "      <td>22</td>\n",
       "      <td>nenhum</td>\n",
       "      <td>01/01/2020</td>\n",
       "      <td>fem div/cas</td>\n",
       "      <td>radio/tv</td>\n",
       "      <td>ruim</td>\n",
       "    </tr>\n",
       "    <tr>\n",
       "      <th>2</th>\n",
       "      <td>2096.0</td>\n",
       "      <td>3</td>\n",
       "      <td>49</td>\n",
       "      <td>nenhum</td>\n",
       "      <td>02/01/2020</td>\n",
       "      <td>masculino solteiro</td>\n",
       "      <td>educação</td>\n",
       "      <td>bom</td>\n",
       "    </tr>\n",
       "    <tr>\n",
       "      <th>3</th>\n",
       "      <td>7882.0</td>\n",
       "      <td>4</td>\n",
       "      <td>45</td>\n",
       "      <td>nenhum</td>\n",
       "      <td>02/01/2019</td>\n",
       "      <td>masculino solteiro</td>\n",
       "      <td>mobilia/equipamento</td>\n",
       "      <td>bom</td>\n",
       "    </tr>\n",
       "    <tr>\n",
       "      <th>4</th>\n",
       "      <td>4870.0</td>\n",
       "      <td>4</td>\n",
       "      <td>53</td>\n",
       "      <td>nenhum</td>\n",
       "      <td>03/01/2018</td>\n",
       "      <td>masculino solteiro</td>\n",
       "      <td>carro novo</td>\n",
       "      <td>ruim</td>\n",
       "    </tr>\n",
       "  </tbody>\n",
       "</table>\n",
       "</div>"
      ],
      "text/plain": [
       "   SALDO_ATUAL  RESIDENCIADESDE  IDADE OUTROSPLANOSPGTO        DATA  \\\n",
       "0       1169.0                4     67           nenhum  01/01/2019   \n",
       "1       5951.0                2     22           nenhum  01/01/2020   \n",
       "2       2096.0                3     49           nenhum  02/01/2020   \n",
       "3       7882.0                4     45           nenhum  02/01/2019   \n",
       "4       4870.0                4     53           nenhum  03/01/2018   \n",
       "\n",
       "          ESTADOCIVIL            PROPOSITO CLASSE  \n",
       "0  masculino solteiro             radio/tv    bom  \n",
       "1         fem div/cas             radio/tv   ruim  \n",
       "2  masculino solteiro             educação    bom  \n",
       "3  masculino solteiro  mobilia/equipamento    bom  \n",
       "4  masculino solteiro           carro novo   ruim  "
      ]
     },
     "execution_count": 5,
     "metadata": {},
     "output_type": "execute_result"
    }
   ],
   "source": [
    "dataset.head()"
   ]
  },
  {
   "cell_type": "code",
   "execution_count": 7,
   "metadata": {},
   "outputs": [
    {
     "data": {
      "text/html": [
       "<div>\n",
       "<style scoped>\n",
       "    .dataframe tbody tr th:only-of-type {\n",
       "        vertical-align: middle;\n",
       "    }\n",
       "\n",
       "    .dataframe tbody tr th {\n",
       "        vertical-align: top;\n",
       "    }\n",
       "\n",
       "    .dataframe thead th {\n",
       "        text-align: right;\n",
       "    }\n",
       "</style>\n",
       "<table border=\"1\" class=\"dataframe\">\n",
       "  <thead>\n",
       "    <tr style=\"text-align: right;\">\n",
       "      <th></th>\n",
       "      <th>SALDO_ATUAL</th>\n",
       "      <th>RESIDENCIADESDE</th>\n",
       "      <th>IDADE</th>\n",
       "      <th>OUTROSPLANOSPGTO</th>\n",
       "      <th>DATA</th>\n",
       "      <th>ESTADOCIVIL</th>\n",
       "      <th>PROPOSITO</th>\n",
       "    </tr>\n",
       "  </thead>\n",
       "  <tbody>\n",
       "    <tr>\n",
       "      <th>0</th>\n",
       "      <td>1169.0</td>\n",
       "      <td>4</td>\n",
       "      <td>67</td>\n",
       "      <td>nenhum</td>\n",
       "      <td>01/01/2019</td>\n",
       "      <td>masculino solteiro</td>\n",
       "      <td>radio/tv</td>\n",
       "    </tr>\n",
       "    <tr>\n",
       "      <th>1</th>\n",
       "      <td>5951.0</td>\n",
       "      <td>2</td>\n",
       "      <td>22</td>\n",
       "      <td>nenhum</td>\n",
       "      <td>01/01/2020</td>\n",
       "      <td>fem div/cas</td>\n",
       "      <td>radio/tv</td>\n",
       "    </tr>\n",
       "    <tr>\n",
       "      <th>2</th>\n",
       "      <td>2096.0</td>\n",
       "      <td>3</td>\n",
       "      <td>49</td>\n",
       "      <td>nenhum</td>\n",
       "      <td>02/01/2020</td>\n",
       "      <td>masculino solteiro</td>\n",
       "      <td>educação</td>\n",
       "    </tr>\n",
       "    <tr>\n",
       "      <th>3</th>\n",
       "      <td>7882.0</td>\n",
       "      <td>4</td>\n",
       "      <td>45</td>\n",
       "      <td>nenhum</td>\n",
       "      <td>02/01/2019</td>\n",
       "      <td>masculino solteiro</td>\n",
       "      <td>mobilia/equipamento</td>\n",
       "    </tr>\n",
       "    <tr>\n",
       "      <th>4</th>\n",
       "      <td>4870.0</td>\n",
       "      <td>4</td>\n",
       "      <td>53</td>\n",
       "      <td>nenhum</td>\n",
       "      <td>03/01/2018</td>\n",
       "      <td>masculino solteiro</td>\n",
       "      <td>carro novo</td>\n",
       "    </tr>\n",
       "    <tr>\n",
       "      <th>...</th>\n",
       "      <td>...</td>\n",
       "      <td>...</td>\n",
       "      <td>...</td>\n",
       "      <td>...</td>\n",
       "      <td>...</td>\n",
       "      <td>...</td>\n",
       "      <td>...</td>\n",
       "    </tr>\n",
       "    <tr>\n",
       "      <th>995</th>\n",
       "      <td>1736.0</td>\n",
       "      <td>4</td>\n",
       "      <td>31</td>\n",
       "      <td>nenhum</td>\n",
       "      <td>29/06/2018</td>\n",
       "      <td>fem div/cas</td>\n",
       "      <td>mobilia/equipamento</td>\n",
       "    </tr>\n",
       "    <tr>\n",
       "      <th>996</th>\n",
       "      <td>3857.0</td>\n",
       "      <td>4</td>\n",
       "      <td>40</td>\n",
       "      <td>nenhum</td>\n",
       "      <td>30/06/2018</td>\n",
       "      <td>masculino div/sep</td>\n",
       "      <td>carro usado</td>\n",
       "    </tr>\n",
       "    <tr>\n",
       "      <th>997</th>\n",
       "      <td>804.0</td>\n",
       "      <td>4</td>\n",
       "      <td>38</td>\n",
       "      <td>nenhum</td>\n",
       "      <td>03/07/2018</td>\n",
       "      <td>masculino solteiro</td>\n",
       "      <td>radio/tv</td>\n",
       "    </tr>\n",
       "    <tr>\n",
       "      <th>998</th>\n",
       "      <td>1845.0</td>\n",
       "      <td>4</td>\n",
       "      <td>23</td>\n",
       "      <td>nenhum</td>\n",
       "      <td>04/07/2019</td>\n",
       "      <td>masculino solteiro</td>\n",
       "      <td>radio/tv</td>\n",
       "    </tr>\n",
       "    <tr>\n",
       "      <th>999</th>\n",
       "      <td>4576.0</td>\n",
       "      <td>4</td>\n",
       "      <td>27</td>\n",
       "      <td>nenhum</td>\n",
       "      <td>05/07/2018</td>\n",
       "      <td>masculino solteiro</td>\n",
       "      <td>carro usado</td>\n",
       "    </tr>\n",
       "  </tbody>\n",
       "</table>\n",
       "<p>1000 rows × 7 columns</p>\n",
       "</div>"
      ],
      "text/plain": [
       "     SALDO_ATUAL  RESIDENCIADESDE  IDADE OUTROSPLANOSPGTO        DATA  \\\n",
       "0         1169.0                4     67           nenhum  01/01/2019   \n",
       "1         5951.0                2     22           nenhum  01/01/2020   \n",
       "2         2096.0                3     49           nenhum  02/01/2020   \n",
       "3         7882.0                4     45           nenhum  02/01/2019   \n",
       "4         4870.0                4     53           nenhum  03/01/2018   \n",
       "..           ...              ...    ...              ...         ...   \n",
       "995       1736.0                4     31           nenhum  29/06/2018   \n",
       "996       3857.0                4     40           nenhum  30/06/2018   \n",
       "997        804.0                4     38           nenhum  03/07/2018   \n",
       "998       1845.0                4     23           nenhum  04/07/2019   \n",
       "999       4576.0                4     27           nenhum  05/07/2018   \n",
       "\n",
       "            ESTADOCIVIL            PROPOSITO  \n",
       "0    masculino solteiro             radio/tv  \n",
       "1           fem div/cas             radio/tv  \n",
       "2    masculino solteiro             educação  \n",
       "3    masculino solteiro  mobilia/equipamento  \n",
       "4    masculino solteiro           carro novo  \n",
       "..                  ...                  ...  \n",
       "995         fem div/cas  mobilia/equipamento  \n",
       "996   masculino div/sep          carro usado  \n",
       "997  masculino solteiro             radio/tv  \n",
       "998  masculino solteiro             radio/tv  \n",
       "999  masculino solteiro          carro usado  \n",
       "\n",
       "[1000 rows x 7 columns]"
      ]
     },
     "execution_count": 7,
     "metadata": {},
     "output_type": "execute_result"
    }
   ],
   "source": [
    "y = dataset['CLASSE']\n",
    "x = dataset.iloc[:, :-1]\n",
    "x"
   ]
  },
  {
   "cell_type": "code",
   "execution_count": 10,
   "metadata": {},
   "outputs": [
    {
     "data": {
      "text/plain": [
       "SALDO_ATUAL         7\n",
       "RESIDENCIADESDE     0\n",
       "IDADE               0\n",
       "OUTROSPLANOSPGTO    0\n",
       "DATA                0\n",
       "ESTADOCIVIL         8\n",
       "PROPOSITO           0\n",
       "dtype: int64"
      ]
     },
     "execution_count": 10,
     "metadata": {},
     "output_type": "execute_result"
    }
   ],
   "source": [
    "# Quais valores faltantes em x\n",
    "x.isnull().sum()"
   ]
  },
  {
   "cell_type": "code",
   "execution_count": 12,
   "metadata": {},
   "outputs": [
    {
     "name": "stderr",
     "output_type": "stream",
     "text": [
      "/tmp/ipykernel_33689/2300172079.py:3: FutureWarning: A value is trying to be set on a copy of a DataFrame or Series through chained assignment using an inplace method.\n",
      "The behavior will change in pandas 3.0. This inplace method will never work because the intermediate object on which we are setting values always behaves as a copy.\n",
      "\n",
      "For example, when doing 'df[col].method(value, inplace=True)', try using 'df.method({col: value}, inplace=True)' or df[col] = df[col].method(value) instead, to perform the operation inplace on the original object.\n",
      "\n",
      "\n",
      "  x['SALDO_ATUAL'].fillna(mediana, inplace=True)\n"
     ]
    },
    {
     "data": {
      "text/plain": [
       "np.float64(2323.0)"
      ]
     },
     "execution_count": 12,
     "metadata": {},
     "output_type": "execute_result"
    }
   ],
   "source": [
    "# Preencher os valores nulos com a mediana para o saldo atual\n",
    "mediana = x['SALDO_ATUAL'].median()\n",
    "x['SALDO_ATUAL'].fillna(mediana, inplace=True)\n",
    "mediana"
   ]
  },
  {
   "cell_type": "code",
   "execution_count": 13,
   "metadata": {},
   "outputs": [
    {
     "data": {
      "text/plain": [
       "SALDO_ATUAL         0\n",
       "RESIDENCIADESDE     0\n",
       "IDADE               0\n",
       "OUTROSPLANOSPGTO    0\n",
       "DATA                0\n",
       "ESTADOCIVIL         8\n",
       "PROPOSITO           0\n",
       "dtype: int64"
      ]
     },
     "execution_count": 13,
     "metadata": {},
     "output_type": "execute_result"
    }
   ],
   "source": [
    "x.isnull().sum()"
   ]
  },
  {
   "cell_type": "code",
   "execution_count": 14,
   "metadata": {},
   "outputs": [
    {
     "data": {
      "text/plain": [
       "ESTADOCIVIL\n",
       "fem div/cas               308\n",
       "masculino casado/viuvo     92\n",
       "masculino div/sep          50\n",
       "masculino solteiro        542\n",
       "dtype: int64"
      ]
     },
     "execution_count": 14,
     "metadata": {},
     "output_type": "execute_result"
    }
   ],
   "source": [
    "# No caso do Estado Civil é categórico, então podemos utilizar moda\n",
    "agrupado = x.groupby(['ESTADOCIVIL']).size()\n",
    "agrupado"
   ]
  },
  {
   "cell_type": "code",
   "execution_count": 16,
   "metadata": {},
   "outputs": [
    {
     "data": {
      "text/plain": [
       "SALDO_ATUAL         0\n",
       "RESIDENCIADESDE     0\n",
       "IDADE               0\n",
       "OUTROSPLANOSPGTO    0\n",
       "DATA                0\n",
       "ESTADOCIVIL         0\n",
       "PROPOSITO           0\n",
       "dtype: int64"
      ]
     },
     "execution_count": 16,
     "metadata": {},
     "output_type": "execute_result"
    }
   ],
   "source": [
    "x['ESTADOCIVIL'].fillna('masculino solteiro', inplace=True)\n",
    "x.isnull().sum()"
   ]
  },
  {
   "cell_type": "code",
   "execution_count": 17,
   "metadata": {},
   "outputs": [
    {
     "data": {
      "text/plain": [
       "np.float64(685936688.9820067)"
      ]
     },
     "execution_count": 17,
     "metadata": {},
     "output_type": "execute_result"
    }
   ],
   "source": [
    "# Vamos analisar agora outliers, vamos utilizar 3 desvpad\n",
    "dp = x['SALDO_ATUAL'].std()\n",
    "dp\n"
   ]
  },
  {
   "cell_type": "code",
   "execution_count": 19,
   "metadata": {},
   "outputs": [
    {
     "data": {
      "text/plain": [
       "127    2.541111e+09\n",
       "160    2.154441e+10\n",
       "Name: SALDO_ATUAL, dtype: float64"
      ]
     },
     "execution_count": 19,
     "metadata": {},
     "output_type": "execute_result"
    }
   ],
   "source": [
    "x.loc[x['SALDO_ATUAL']>= 2 * dp, 'SALDO_ATUAL']"
   ]
  },
  {
   "cell_type": "code",
   "execution_count": 20,
   "metadata": {},
   "outputs": [
    {
     "data": {
      "text/plain": [
       "np.float64(2323.0)"
      ]
     },
     "execution_count": 20,
     "metadata": {},
     "output_type": "execute_result"
    }
   ],
   "source": [
    "mediana = x['SALDO_ATUAL'].median()\n",
    "mediana"
   ]
  },
  {
   "cell_type": "code",
   "execution_count": 22,
   "metadata": {},
   "outputs": [
    {
     "data": {
      "text/plain": [
       "Series([], Name: SALDO_ATUAL, dtype: float64)"
      ]
     },
     "execution_count": 22,
     "metadata": {},
     "output_type": "execute_result"
    }
   ],
   "source": [
    "x.loc[x['SALDO_ATUAL']>= 2 * dp, 'SALDO_ATUAL'] = mediana\n",
    "x.loc[x['SALDO_ATUAL']>= 2 * dp, 'SALDO_ATUAL']"
   ]
  },
  {
   "cell_type": "code",
   "execution_count": 23,
   "metadata": {},
   "outputs": [
    {
     "data": {
      "text/plain": [
       "PROPOSITO\n",
       "Eletrodomésticos        12\n",
       "carro novo             234\n",
       "carro usado            103\n",
       "educação                50\n",
       "mobilia/equipamento    181\n",
       "negócios                97\n",
       "obras                   22\n",
       "outros                  12\n",
       "qualificação             9\n",
       "radio/tv               280\n",
       "dtype: int64"
      ]
     },
     "execution_count": 23,
     "metadata": {},
     "output_type": "execute_result"
    }
   ],
   "source": [
    "# BINNING\n",
    "agrupado = x.groupby(['PROPOSITO']).size()\n",
    "agrupado"
   ]
  },
  {
   "cell_type": "code",
   "execution_count": 29,
   "metadata": {},
   "outputs": [
    {
     "data": {
      "text/plain": [
       "PROPOSITO\n",
       "carro novo             234\n",
       "carro usado            103\n",
       "educação                50\n",
       "mobilia/equipamento    181\n",
       "negócios                97\n",
       "obras                   22\n",
       "outros                  33\n",
       "radio/tv               280\n",
       "dtype: int64"
      ]
     },
     "execution_count": 29,
     "metadata": {},
     "output_type": "execute_result"
    }
   ],
   "source": [
    "# classes como qualificação e eletrodomésticos aparecem muito pouco e poderiam\n",
    "# ser ignoradas na nossa análise, portanto vamos realizar o BINNING\n",
    "x.loc[x['PROPOSITO']=='Eletrodomésticos', 'PROPOSITO'] = 'outros'\n",
    "x.loc[x['PROPOSITO']=='qualificação', 'PROPOSITO'] = 'outros'\n",
    "agrupado = x.groupby(['PROPOSITO']).size()\n",
    "agrupado"
   ]
  },
  {
   "cell_type": "code",
   "execution_count": 30,
   "metadata": {},
   "outputs": [
    {
     "data": {
      "text/plain": [
       "0      01/01/2019\n",
       "1      01/01/2020\n",
       "2      02/01/2020\n",
       "3      02/01/2019\n",
       "4      03/01/2018\n",
       "          ...    \n",
       "995    29/06/2018\n",
       "996    30/06/2018\n",
       "997    03/07/2018\n",
       "998    04/07/2019\n",
       "999    05/07/2018\n",
       "Name: DATA, Length: 1000, dtype: object"
      ]
     },
     "execution_count": 30,
     "metadata": {},
     "output_type": "execute_result"
    }
   ],
   "source": [
    "x['DATA']"
   ]
  },
  {
   "cell_type": "code",
   "execution_count": 33,
   "metadata": {},
   "outputs": [
    {
     "data": {
      "text/plain": [
       "0     2019-01-01\n",
       "1     2020-01-01\n",
       "2     2020-01-02\n",
       "3     2019-01-02\n",
       "4     2018-01-03\n",
       "         ...    \n",
       "995   2018-06-29\n",
       "996   2018-06-30\n",
       "997   2018-07-03\n",
       "998   2019-07-04\n",
       "999   2018-07-05\n",
       "Name: DATA, Length: 1000, dtype: datetime64[ns]"
      ]
     },
     "execution_count": 33,
     "metadata": {},
     "output_type": "execute_result"
    }
   ],
   "source": [
    "# Transformar a data em atributos\n",
    "x['DATA'] = pd.to_datetime(x['DATA'], format='%d/%m/%Y')\n",
    "x['DATA']"
   ]
  },
  {
   "cell_type": "code",
   "execution_count": 36,
   "metadata": {},
   "outputs": [
    {
     "data": {
      "text/plain": [
       "0        Tuesday\n",
       "1      Wednesday\n",
       "2       Thursday\n",
       "3      Wednesday\n",
       "4      Wednesday\n",
       "         ...    \n",
       "995       Friday\n",
       "996     Saturday\n",
       "997      Tuesday\n",
       "998     Thursday\n",
       "999     Thursday\n",
       "Name: DIASEMANA, Length: 1000, dtype: object"
      ]
     },
     "execution_count": 36,
     "metadata": {},
     "output_type": "execute_result"
    }
   ],
   "source": [
    "x['ANO'] = x['DATA'].dt.year\n",
    "x['MES'] = x['DATA'].dt.month\n",
    "x['DIASEMANA'] = x['DATA'].dt.day_name()\n",
    "x['DIASEMANA']\n",
    "\n",
    "# Podemos utilizar o labelencoder para transformar essas categorias em valores\n",
    "# numéricos!"
   ]
  },
  {
   "cell_type": "code",
   "execution_count": 39,
   "metadata": {},
   "outputs": [
    {
     "data": {
      "text/plain": [
       "array(['Tuesday', 'Wednesday', 'Thursday', 'Saturday', 'Sunday', 'Monday',\n",
       "       'Friday'], dtype=object)"
      ]
     },
     "execution_count": 39,
     "metadata": {},
     "output_type": "execute_result"
    }
   ],
   "source": [
    "x['ESTADOCIVIL'].unique()\n",
    "x['PROPOSITO'].unique()\n",
    "x['DIASEMANA'].unique()"
   ]
  },
  {
   "cell_type": "code",
   "execution_count": 41,
   "metadata": {},
   "outputs": [],
   "source": [
    "labelencoder1 = LabelEncoder()\n",
    "x['ESTADOCIVIL'] = labelencoder1.fit_transform(x['ESTADOCIVIL'])\n",
    "x['PROPOSITO'] = labelencoder1.fit_transform(x['PROPOSITO'])\n",
    "x['DIASEMANA'] = labelencoder1.fit_transform(x['DIASEMANA']) "
   ]
  },
  {
   "cell_type": "code",
   "execution_count": null,
   "metadata": {},
   "outputs": [],
   "source": [
    "x.head()"
   ]
  },
  {
   "cell_type": "code",
   "execution_count": null,
   "metadata": {},
   "outputs": [],
   "source": [
    "outros = x['OUTROSPLANOSPGTO'].unique()\n",
    "outros"
   ]
  },
  {
   "cell_type": "code",
   "execution_count": 42,
   "metadata": {},
   "outputs": [],
   "source": [
    "z = pd.get_dummies(x['OUTROSPLANOSPGTO'], prefix = 'OUTROS')"
   ]
  },
  {
   "cell_type": "code",
   "execution_count": 44,
   "metadata": {},
   "outputs": [
    {
     "data": {
      "text/plain": [
       "array([[-0.74551643,  1.04698668,  1.6392759 ],\n",
       "       [ 0.95774038, -0.76597727, -0.74024139],\n",
       "       [-0.41533679,  0.14050471,  0.68746898],\n",
       "       ...,\n",
       "       [-0.87552244,  1.04698668,  0.1058092 ],\n",
       "       [-0.50473818,  1.04698668, -0.68736323],\n",
       "       [ 0.46799171,  1.04698668, -0.47585058]], shape=(1000, 3))"
      ]
     },
     "execution_count": 44,
     "metadata": {},
     "output_type": "execute_result"
    }
   ],
   "source": [
    "sc = StandardScaler()\n",
    "m = sc.fit_transform(x.iloc[:,0:3])\n",
    "m"
   ]
  },
  {
   "cell_type": "code",
   "execution_count": 45,
   "metadata": {},
   "outputs": [],
   "source": [
    "x = pd.concat([x,z,pd.DataFrame(m,columns=['SALDO_ATUAL_N','RESIDENCEADESDE_N','IDADE_N'])],axis=1)\n",
    "x.head()"
   ]
  },
  {
   "cell_type": "code",
   "execution_count": null,
   "metadata": {},
   "outputs": [],
   "source": []
  }
 ],
 "metadata": {
  "language_info": {
   "name": "python"
  }
 },
 "nbformat": 4,
 "nbformat_minor": 2
}
