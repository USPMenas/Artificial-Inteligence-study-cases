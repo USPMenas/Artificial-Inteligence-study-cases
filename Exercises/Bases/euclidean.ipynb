{
 "cells": [
  {
   "cell_type": "markdown",
   "metadata": {},
   "source": [
    "Exercise:\n",
    "The table below provides a training data set containing six observa\n",
    "tions, three predictors, and one qualitative response variable.\n",
    " Obs. X1 X2 X3 Y\n",
    " 1 0 3 0 Red\n",
    " 2 2 0 0 Red\n",
    " 3 0 1 3 Red\n",
    " 4 0 1 2 Green\n",
    " 5 1 0 1 Green\n",
    " 6 1 1 1 Red\n",
    " Suppose we wish to use this data set to make a prediction for Y when\n",
    " X1 =X2 =X3 =0using K-nearest neighbors.\n",
    " (a) Compute the Euclidean distance between each observation and\n",
    " the test point, X1 = X2 = X3 =0.\n",
    " (b) What is our prediction with K =1? Why?\n",
    " (c) What is our prediction with K =3? Why?\n",
    " (d) If the Bayes decision boundary in this problem is highly non\n",
    "linear, then would we expect the best value for K to be large or\n",
    " small? Why?\n"
   ]
  },
  {
   "cell_type": "markdown",
   "metadata": {},
   "source": [
    "# A"
   ]
  },
  {
   "cell_type": "code",
   "execution_count": 2,
   "metadata": {},
   "outputs": [],
   "source": [
    "import numpy as np\n",
    "import matplotlib.pyplot as plt\n"
   ]
  },
  {
   "cell_type": "code",
   "execution_count": 6,
   "metadata": {},
   "outputs": [
    {
     "name": "stdout",
     "output_type": "stream",
     "text": [
      "[np.float64(3.0), np.float64(2.0), np.float64(3.1622776601683795), np.float64(2.23606797749979), np.float64(1.4142135623730951), np.float64(1.7320508075688772)]\n",
      "(np.float64(3.0), np.str_('red'))\n",
      "Observation 1: Distance = 3.00, Class = 1\n",
      "(np.float64(2.0), np.str_('red'))\n",
      "Observation 2: Distance = 2.00, Class = 1\n",
      "(np.float64(3.1622776601683795), np.str_('red'))\n",
      "Observation 3: Distance = 3.16, Class = 1\n",
      "(np.float64(2.23606797749979), np.str_('green'))\n",
      "Observation 4: Distance = 2.24, Class = 2\n",
      "(np.float64(1.4142135623730951), np.str_('green'))\n",
      "Observation 5: Distance = 1.41, Class = 2\n",
      "(np.float64(1.7320508075688772), np.str_('red'))\n",
      "Observation 6: Distance = 1.73, Class = 1\n"
     ]
    }
   ],
   "source": [
    "# The euclidean distance is measured by:\n",
    "# sqrt((x1-xr)²+(x2-xr²)+(x3-xr)²) given xr = point of result\n",
    "x1 = np.array([0,2,0,0,-1,1])\n",
    "x2 = np.array([3,0,1,1,0,1])\n",
    "x3 = np.array([0,0,3,2,1,1])\n",
    "y_wrote = np.array([\"red\", \"red\", \"red\", \"green\", \"green\", \"red\"])\n",
    "y = np.array([1, 1, 1, 2, 2, 1])\n",
    "xr = np.array([0,0,0])\n",
    "\n",
    "def euclidean_dist(x1, x2, x3, xr):\n",
    "    euc_dist = []\n",
    "\n",
    "    for index1 in range(len(x1)):\n",
    "            euc = (x1[index1] - xr[0])**2\n",
    "            euc += (x2[index1] - xr[1])**2\n",
    "            euc += (x3[index1] - xr[2])**2\n",
    "            euc = np.sqrt(euc)\n",
    "            euc_dist.append(euc)\n",
    "    print(euc_dist)\n",
    "    return euc_dist\n",
    "\n",
    "distances = euclidean_dist(x1, x2, x3, xr)\n",
    "dist_enum = []\n",
    "\n",
    "# Print results\n",
    "for i, dist in enumerate(distances):\n",
    "    dist_enum.append((dist, y_wrote[i])) \n",
    "    print(dist_enum[i])\n",
    "    print(f\"Observation {i+1}: Distance = {dist:.2f}, Class = {y[i]}\")"
   ]
  },
  {
   "cell_type": "markdown",
   "metadata": {},
   "source": [
    "B"
   ]
  },
  {
   "cell_type": "code",
   "execution_count": null,
   "metadata": {},
   "outputs": [
    {
     "name": "stdout",
     "output_type": "stream",
     "text": [
      "[(np.float64(1.4142135623730951), np.str_('green')), (np.float64(1.7320508075688772), np.str_('red')), (np.float64(2.0), np.str_('red')), (np.float64(2.23606797749979), np.str_('green')), (np.float64(3.0), np.str_('red')), (np.float64(3.1622776601683795), np.str_('red'))]\n",
      "[4, 2]\n",
      "Prevision = red\n"
     ]
    }
   ],
   "source": [
    "# made by hand\n",
    "sort_distances = sorted(dist_enum)\n",
    "print(sort_distances)\n",
    "k = 6\n",
    "\n",
    "def counting_class(k):\n",
    "    # red, green\n",
    "    counting = [0, 0]\n",
    "    for index in range(k):\n",
    "        # print(sort_distances[index][1])\n",
    "        if sort_distances[index][1] == \"red\":\n",
    "            counting[0] += 1\n",
    "        else:\n",
    "            counting[1] += 1\n",
    "    return counting\n",
    "\n",
    "number_of_classes = counting_class(k)\n",
    "print(number_of_classes)\n",
    "if (number_of_classes[0] > number_of_classes[1]):\n",
    "    print(f'Prevision = red')\n",
    "else:\n",
    "    print(f'Prevision = green')"
   ]
  },
  {
   "cell_type": "markdown",
   "metadata": {},
   "source": [
    "Using Library"
   ]
  },
  {
   "cell_type": "code",
   "execution_count": null,
   "metadata": {},
   "outputs": [
    {
     "name": "stdout",
     "output_type": "stream",
     "text": [
      "Best K: 4 with accuracy: 0.67\n"
     ]
    },
    {
     "name": "stderr",
     "output_type": "stream",
     "text": [
      "/home/codespace/.local/lib/python3.12/site-packages/sklearn/model_selection/_validation.py:978: UserWarning: Scoring failed. The score on this train-test partition for these parameters will be set to nan. Details: \n",
      "Traceback (most recent call last):\n",
      "  File \"/home/codespace/.local/lib/python3.12/site-packages/sklearn/metrics/_scorer.py\", line 144, in __call__\n",
      "    score = scorer(estimator, *args, **routed_params.get(name).score)\n",
      "            ^^^^^^^^^^^^^^^^^^^^^^^^^^^^^^^^^^^^^^^^^^^^^^^^^^^^^^^^^\n",
      "  File \"/home/codespace/.local/lib/python3.12/site-packages/sklearn/metrics/_scorer.py\", line 472, in __call__\n",
      "    return estimator.score(*args, **kwargs)\n",
      "           ^^^^^^^^^^^^^^^^^^^^^^^^^^^^^^^^\n",
      "  File \"/home/codespace/.local/lib/python3.12/site-packages/sklearn/neighbors/_classification.py\", line 446, in score\n",
      "    return super().score(X, y, sample_weight)\n",
      "           ^^^^^^^^^^^^^^^^^^^^^^^^^^^^^^^^^^\n",
      "  File \"/home/codespace/.local/lib/python3.12/site-packages/sklearn/base.py\", line 572, in score\n",
      "    return accuracy_score(y, self.predict(X), sample_weight=sample_weight)\n",
      "                             ^^^^^^^^^^^^^^^\n",
      "  File \"/home/codespace/.local/lib/python3.12/site-packages/sklearn/neighbors/_classification.py\", line 274, in predict\n",
      "    neigh_ind = self.kneighbors(X, return_distance=False)\n",
      "                ^^^^^^^^^^^^^^^^^^^^^^^^^^^^^^^^^^^^^^^^^\n",
      "  File \"/home/codespace/.local/lib/python3.12/site-packages/sklearn/neighbors/_base.py\", line 853, in kneighbors\n",
      "    raise ValueError(\n",
      "ValueError: Expected n_neighbors <= n_samples_fit, but n_neighbors = 4, n_samples_fit = 3, n_samples = 3\n",
      "\n",
      "  warnings.warn(\n",
      "/home/codespace/.local/lib/python3.12/site-packages/sklearn/model_selection/_validation.py:978: UserWarning: Scoring failed. The score on this train-test partition for these parameters will be set to nan. Details: \n",
      "Traceback (most recent call last):\n",
      "  File \"/home/codespace/.local/lib/python3.12/site-packages/sklearn/metrics/_scorer.py\", line 144, in __call__\n",
      "    score = scorer(estimator, *args, **routed_params.get(name).score)\n",
      "            ^^^^^^^^^^^^^^^^^^^^^^^^^^^^^^^^^^^^^^^^^^^^^^^^^^^^^^^^^\n",
      "  File \"/home/codespace/.local/lib/python3.12/site-packages/sklearn/metrics/_scorer.py\", line 472, in __call__\n",
      "    return estimator.score(*args, **kwargs)\n",
      "           ^^^^^^^^^^^^^^^^^^^^^^^^^^^^^^^^\n",
      "  File \"/home/codespace/.local/lib/python3.12/site-packages/sklearn/neighbors/_classification.py\", line 446, in score\n",
      "    return super().score(X, y, sample_weight)\n",
      "           ^^^^^^^^^^^^^^^^^^^^^^^^^^^^^^^^^^\n",
      "  File \"/home/codespace/.local/lib/python3.12/site-packages/sklearn/base.py\", line 572, in score\n",
      "    return accuracy_score(y, self.predict(X), sample_weight=sample_weight)\n",
      "                             ^^^^^^^^^^^^^^^\n",
      "  File \"/home/codespace/.local/lib/python3.12/site-packages/sklearn/neighbors/_classification.py\", line 274, in predict\n",
      "    neigh_ind = self.kneighbors(X, return_distance=False)\n",
      "                ^^^^^^^^^^^^^^^^^^^^^^^^^^^^^^^^^^^^^^^^^\n",
      "  File \"/home/codespace/.local/lib/python3.12/site-packages/sklearn/neighbors/_base.py\", line 853, in kneighbors\n",
      "    raise ValueError(\n",
      "ValueError: Expected n_neighbors <= n_samples_fit, but n_neighbors = 4, n_samples_fit = 3, n_samples = 3\n",
      "\n",
      "  warnings.warn(\n",
      "/home/codespace/.local/lib/python3.12/site-packages/sklearn/model_selection/_validation.py:978: UserWarning: Scoring failed. The score on this train-test partition for these parameters will be set to nan. Details: \n",
      "Traceback (most recent call last):\n",
      "  File \"/home/codespace/.local/lib/python3.12/site-packages/sklearn/metrics/_scorer.py\", line 144, in __call__\n",
      "    score = scorer(estimator, *args, **routed_params.get(name).score)\n",
      "            ^^^^^^^^^^^^^^^^^^^^^^^^^^^^^^^^^^^^^^^^^^^^^^^^^^^^^^^^^\n",
      "  File \"/home/codespace/.local/lib/python3.12/site-packages/sklearn/metrics/_scorer.py\", line 472, in __call__\n",
      "    return estimator.score(*args, **kwargs)\n",
      "           ^^^^^^^^^^^^^^^^^^^^^^^^^^^^^^^^\n",
      "  File \"/home/codespace/.local/lib/python3.12/site-packages/sklearn/neighbors/_classification.py\", line 446, in score\n",
      "    return super().score(X, y, sample_weight)\n",
      "           ^^^^^^^^^^^^^^^^^^^^^^^^^^^^^^^^^^\n",
      "  File \"/home/codespace/.local/lib/python3.12/site-packages/sklearn/base.py\", line 572, in score\n",
      "    return accuracy_score(y, self.predict(X), sample_weight=sample_weight)\n",
      "                             ^^^^^^^^^^^^^^^\n",
      "  File \"/home/codespace/.local/lib/python3.12/site-packages/sklearn/neighbors/_classification.py\", line 274, in predict\n",
      "    neigh_ind = self.kneighbors(X, return_distance=False)\n",
      "                ^^^^^^^^^^^^^^^^^^^^^^^^^^^^^^^^^^^^^^^^^\n",
      "  File \"/home/codespace/.local/lib/python3.12/site-packages/sklearn/neighbors/_base.py\", line 853, in kneighbors\n",
      "    raise ValueError(\n",
      "ValueError: Expected n_neighbors <= n_samples_fit, but n_neighbors = 5, n_samples_fit = 3, n_samples = 3\n",
      "\n",
      "  warnings.warn(\n",
      "/home/codespace/.local/lib/python3.12/site-packages/sklearn/model_selection/_validation.py:978: UserWarning: Scoring failed. The score on this train-test partition for these parameters will be set to nan. Details: \n",
      "Traceback (most recent call last):\n",
      "  File \"/home/codespace/.local/lib/python3.12/site-packages/sklearn/metrics/_scorer.py\", line 144, in __call__\n",
      "    score = scorer(estimator, *args, **routed_params.get(name).score)\n",
      "            ^^^^^^^^^^^^^^^^^^^^^^^^^^^^^^^^^^^^^^^^^^^^^^^^^^^^^^^^^\n",
      "  File \"/home/codespace/.local/lib/python3.12/site-packages/sklearn/metrics/_scorer.py\", line 472, in __call__\n",
      "    return estimator.score(*args, **kwargs)\n",
      "           ^^^^^^^^^^^^^^^^^^^^^^^^^^^^^^^^\n",
      "  File \"/home/codespace/.local/lib/python3.12/site-packages/sklearn/neighbors/_classification.py\", line 446, in score\n",
      "    return super().score(X, y, sample_weight)\n",
      "           ^^^^^^^^^^^^^^^^^^^^^^^^^^^^^^^^^^\n",
      "  File \"/home/codespace/.local/lib/python3.12/site-packages/sklearn/base.py\", line 572, in score\n",
      "    return accuracy_score(y, self.predict(X), sample_weight=sample_weight)\n",
      "                             ^^^^^^^^^^^^^^^\n",
      "  File \"/home/codespace/.local/lib/python3.12/site-packages/sklearn/neighbors/_classification.py\", line 274, in predict\n",
      "    neigh_ind = self.kneighbors(X, return_distance=False)\n",
      "                ^^^^^^^^^^^^^^^^^^^^^^^^^^^^^^^^^^^^^^^^^\n",
      "  File \"/home/codespace/.local/lib/python3.12/site-packages/sklearn/neighbors/_base.py\", line 853, in kneighbors\n",
      "    raise ValueError(\n",
      "ValueError: Expected n_neighbors <= n_samples_fit, but n_neighbors = 5, n_samples_fit = 3, n_samples = 3\n",
      "\n",
      "  warnings.warn(\n"
     ]
    }
   ],
   "source": [
    "import numpy as np\n",
    "from sklearn.model_selection import cross_val_score\n",
    "from sklearn.neighbors import KNeighborsClassifier\n",
    "\n",
    "# Define the dataset\n",
    "X = np.array([\n",
    "    [0, 3, 0], [2, 0, 0], [0, 1, 3], \n",
    "    [0, 1, 2], [-1, 0, 1], [1, 1, 1]\n",
    "])\n",
    "y = np.array([\"red\", \"red\", \"red\", \"green\", \"green\", \"red\"])  # Labels\n",
    "\n",
    "# Define possible K values\n",
    "k_values = range(1, len(y))  # Test K from 1 to dataset size\n",
    "\n",
    "# Store accuracy for each K\n",
    "accuracy_scores = []\n",
    "\n",
    "for k in k_values:\n",
    "    knn = KNeighborsClassifier(n_neighbors=k)\n",
    "    scores = cross_val_score(knn, X, y, cv=3)  # 3-fold cross-validation\n",
    "    accuracy_scores.append(scores.mean())  # Store average accuracy\n",
    "\n",
    "# Find the best K (highest accuracy)\n",
    "best_k = k_values[np.argmax(accuracy_scores)]\n",
    "best_accuracy = max(accuracy_scores)\n",
    "\n",
    "print(f\"Best K: {best_k} with accuracy: {best_accuracy:.2f}\")\n"
   ]
  }
 ],
 "metadata": {
  "kernelspec": {
   "display_name": "Python 3",
   "language": "python",
   "name": "python3"
  },
  "language_info": {
   "codemirror_mode": {
    "name": "ipython",
    "version": 3
   },
   "file_extension": ".py",
   "mimetype": "text/x-python",
   "name": "python",
   "nbconvert_exporter": "python",
   "pygments_lexer": "ipython3",
   "version": "3.12.1"
  }
 },
 "nbformat": 4,
 "nbformat_minor": 2
}
