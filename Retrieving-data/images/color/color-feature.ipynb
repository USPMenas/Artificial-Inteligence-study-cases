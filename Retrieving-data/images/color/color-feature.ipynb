{
 "cells": [
  {
   "cell_type": "code",
   "execution_count": null,
   "metadata": {},
   "outputs": [],
   "source": [
    "import cv2\n",
    "\n",
    "# Load an image\n",
    "image = cv2.imread(\"example.jpg\")\n",
    "\n",
    "# Get the RGB values of a pixel at (x=50, y=100)\n",
    "b, g, r = image[100, 50]  # OpenCV loads images in BGR format by default\n",
    "print(f\"Red: {r}, Green: {g}, Blue: {b}\")"
   ]
  }
 ],
 "metadata": {
  "kernelspec": {
   "display_name": "Python 3",
   "language": "python",
   "name": "python3"
  },
  "language_info": {
   "name": "python",
   "version": "3.12.1"
  }
 },
 "nbformat": 4,
 "nbformat_minor": 2
}
