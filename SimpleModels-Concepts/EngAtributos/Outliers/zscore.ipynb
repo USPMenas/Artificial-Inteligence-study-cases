{
 "cells": [
  {
   "cell_type": "code",
   "execution_count": 3,
   "metadata": {},
   "outputs": [],
   "source": [
    "import numpy as np\n",
    "import scipy.stats as stats"
   ]
  },
  {
   "cell_type": "code",
   "execution_count": 4,
   "metadata": {},
   "outputs": [
    {
     "name": "stdout",
     "output_type": "stream",
     "text": [
      "[-0.37966016 -0.39294273 -0.37966016 -0.36637759  0.55011982 -0.39294273\n",
      " -0.4062253  -0.37966016  3.20663406 -0.36637759 -0.35309502 -0.33981245]\n"
     ]
    }
   ],
   "source": [
    "data = np.array([30, 29, 30, 31, 100, 29 , 28, 30 , 300, 31, 32, 33])\n",
    "zscores = stats.zscore(data)\n",
    "print(zscores)"
   ]
  },
  {
   "cell_type": "code",
   "execution_count": 6,
   "metadata": {},
   "outputs": [
    {
     "name": "stdout",
     "output_type": "stream",
     "text": [
      "Outlier indentified: [300]\n"
     ]
    }
   ],
   "source": [
    "outlier = data[np.abs(zscores)>3]\n",
    "print(f\"Outlier indentified: {outlier}\")"
   ]
  }
 ],
 "metadata": {
  "language_info": {
   "name": "python"
  }
 },
 "nbformat": 4,
 "nbformat_minor": 2
}
